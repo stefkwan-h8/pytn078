{
 "cells": [
  {
   "cell_type": "markdown",
   "metadata": {},
   "source": [
    "# Descriptive Statistics\n",
    "\n",
    "## Terminology\n",
    "- population\n",
    "    - keseluruhan data yang bersangkutan. misalkan kita mau tau harga rata-rata rumah di Indonesia. artinya data population rumah Indonesia adalah harga seluruh rumah yang ada di Indonesia, di semua kota, di semua propinsi, semua jenis pemilik, semua jenis rumah. \n",
    "    - biasanya tidak realistis untuk bisa dapat keseluruhan data population.\n",
    "- sample\n",
    "    - sebagian dari population\n",
    "    - sample yang baik akan mengambil data dari bagian2 berbeda di population\n",
    "    - contoh, harga rumah, jangan ambil sample khusus \"harga rumah yang dijual online di Jakarta\" saja, jadinya sample nya kurang bisa merepresentasika \"harga rumah di Indonesia\"\n",
    "- outlier\n",
    "    - data yang beda jauh dari tengah data. data yang beda sendiri. luar biasa.\n",
    "    - data yang ada diatas angka Q3 + 1.5 x (IQR) \n",
    "    - data yang ada dibawah angka Q1 - 1.5 x (IQR)\n",
    "    - secara visual bisa dilihat di box plot\n",
    "\n",
    "## Measure of Central Tendency\n",
    "- mean\n",
    "    - mean\n",
    "    - geometric mean - saat kita mau cari rata2 antara data yang unit nya berbeda, misalkan ada dua seller olshop, sama2 jual kamera digital yang kita mau. seller A punya 108 review dan 3/5 bintang, seller B punya 68 review dan 4/5 bintang, mana seller yang lebih baik?\n",
    "    - harmonic mean - saat ada data outlier yang jauh banget sampai membuat data kita rata2 ketarik. contoh, misal di sebuah perusahaan startup ada 5 pegawai, CEO, 2 asisten, 2 ob. gaji mereka sangat berbeda [100, 6, 4, 3.5, 3.5]\n",
    "    - weighted mean - saat bobot setiap titik data/ nilai dibedakan. setiap nilai punya bobot masing-masing. contoh, pr1, pr2, pr3, finals, finals 50%, pr 1 dan pr2 10% pr3 30%.\n",
    "- median\n",
    "    - quartile ke-2, percentile-50, tempat dimana 50% data nilainya diatas median, 50% data nilainya dibawah median\n",
    "    - [3.5, 3.5, 4, 6, 100] --> median 4\n",
    "    - [3.5, 4, 6, 100] --> median 4+6 / 2 = 5\n",
    "- mode - angka yang paling sering muncul\n",
    "\n",
    "\n",
    "## Measure of Spread\n",
    "- range - perbedaan max dan min\n",
    "- standard deviation - saat setiap data dicari perbedaannya dengan rata2, kemudian di kuadrat, dibagi jumlah data, dan di akar\n",
    "- variance - standard deviation kuadrat\n",
    "- quartile dan percentile\n",
    "    - percentile ke 25 = quartile 1\n",
    "    - percentile ke 50 = quartile 2 = median\n",
    "    - percentile ke 75 = quartile 3\n",
    "- inter-quartile range adalah perbedaan Q3 dan Q1\n",
    "\n",
    "contoh: top 10% murid nilainya berapa? kita ambil quartile ke-90, ini adalah angka terendah diantara top 10% data\n",
    "\n",
    "## Correlation\n",
    "menghitung seberapa terkorelasi dua set data.\n",
    "\n",
    "misalkan kita punya data 100 orang punya tinggi dan berat badan, dan kita mau tau apakah orang yang semakin tinggi itu akan semakin berat juga, kita bisa gunakan angka correlation."
   ]
  },
  {
   "cell_type": "code",
   "execution_count": 1,
   "metadata": {},
   "outputs": [],
   "source": [
    "import math\n",
    "import statistics\n",
    "import scipy.stats\n",
    "import numpy as np\n",
    "import pandas as pd\n",
    "import matplotlib.pyplot as plt\n",
    "%matplotlib inline"
   ]
  },
  {
   "cell_type": "code",
   "execution_count": 3,
   "metadata": {},
   "outputs": [
    {
     "name": "stdout",
     "output_type": "stream",
     "text": [
      "[2, 36, 34, 17, 16]\n"
     ]
    }
   ],
   "source": [
    "\n",
    "\n",
    "# buat dummy data\n",
    "\n",
    "x = list((np.random.random(5) * 50 + 1).astype(int))\n",
    "print(x)"
   ]
  },
  {
   "cell_type": "code",
   "execution_count": 4,
   "metadata": {},
   "outputs": [
    {
     "name": "stdout",
     "output_type": "stream",
     "text": [
      "[2, 36, 34, 17, 16, nan]\n"
     ]
    }
   ],
   "source": [
    "x_nan = x.copy()\n",
    "x_nan.append(math.nan)\n",
    "print(x_nan)"
   ]
  },
  {
   "cell_type": "code",
   "execution_count": 5,
   "metadata": {},
   "outputs": [],
   "source": [
    "# kita punya 2 list, satu isi 5 angka, satu isi 5 angka dan 1 missing value\n",
    "\n",
    "# kita buat versi numpy nya\n",
    "y = np.array(x)\n",
    "y_nan = np.array(x_nan)\n",
    "\n",
    "# kita buat versi pandas Series nya\n",
    "z = pd.Series(x)\n",
    "z_nan = pd.Series(x_nan)"
   ]
  },
  {
   "cell_type": "code",
   "execution_count": 7,
   "metadata": {},
   "outputs": [
    {
     "name": "stdout",
     "output_type": "stream",
     "text": [
      "[2, 36, 34, 17, 16] [2, 36, 34, 17, 16, nan] <class 'list'>\n",
      "[ 2 36 34 17 16] [ 2. 36. 34. 17. 16. nan] <class 'numpy.ndarray'>\n",
      "0     2\n",
      "1    36\n",
      "2    34\n",
      "3    17\n",
      "4    16\n",
      "dtype: int32 0     2.0\n",
      "1    36.0\n",
      "2    34.0\n",
      "3    17.0\n",
      "4    16.0\n",
      "5     NaN\n",
      "dtype: float64 <class 'pandas.core.series.Series'>\n"
     ]
    }
   ],
   "source": [
    "# ini data kita\n",
    "print(x, x_nan, type(x))\n",
    "print(y, y_nan, type(y))\n",
    "print(z, z_nan, type(z))"
   ]
  },
  {
   "cell_type": "code",
   "execution_count": 8,
   "metadata": {},
   "outputs": [
    {
     "data": {
      "text/plain": [
       "21"
      ]
     },
     "execution_count": 8,
     "metadata": {},
     "output_type": "execute_result"
    }
   ],
   "source": [
    "# Mean\n",
    "\n",
    "# dengan list\n",
    "statistics.mean(x)"
   ]
  },
  {
   "cell_type": "code",
   "execution_count": 10,
   "metadata": {},
   "outputs": [],
   "source": [
    "#statistics.mean(x_nan) # error"
   ]
  },
  {
   "cell_type": "code",
   "execution_count": 11,
   "metadata": {},
   "outputs": [
    {
     "data": {
      "text/plain": [
       "21.0"
      ]
     },
     "execution_count": 11,
     "metadata": {},
     "output_type": "execute_result"
    }
   ],
   "source": [
    "# dengan numpy\n",
    "\n",
    "y.mean()"
   ]
  },
  {
   "cell_type": "code",
   "execution_count": 12,
   "metadata": {},
   "outputs": [
    {
     "data": {
      "text/plain": [
       "nan"
      ]
     },
     "execution_count": 12,
     "metadata": {},
     "output_type": "execute_result"
    }
   ],
   "source": [
    "y_nan.mean() # dapat value nan bukan rata2nya"
   ]
  },
  {
   "cell_type": "code",
   "execution_count": 14,
   "metadata": {},
   "outputs": [
    {
     "data": {
      "text/plain": [
       "21.0"
      ]
     },
     "execution_count": 14,
     "metadata": {},
     "output_type": "execute_result"
    }
   ],
   "source": [
    "np.nanmean(y_nan) # dapat value rata2 dengan mengabaikan nan value"
   ]
  },
  {
   "cell_type": "code",
   "execution_count": 15,
   "metadata": {},
   "outputs": [
    {
     "data": {
      "text/plain": [
       "21.0"
      ]
     },
     "execution_count": 15,
     "metadata": {},
     "output_type": "execute_result"
    }
   ],
   "source": [
    "# pandas\n",
    "\n",
    "z.mean()"
   ]
  },
  {
   "cell_type": "code",
   "execution_count": 16,
   "metadata": {},
   "outputs": [
    {
     "data": {
      "text/plain": [
       "21.0"
      ]
     },
     "execution_count": 16,
     "metadata": {},
     "output_type": "execute_result"
    }
   ],
   "source": [
    "z_nan.mean()"
   ]
  },
  {
   "cell_type": "code",
   "execution_count": 19,
   "metadata": {},
   "outputs": [
    {
     "name": "stdout",
     "output_type": "stream",
     "text": [
      "pakai pandas\n",
      "17.0\n",
      "17.0\n"
     ]
    }
   ],
   "source": [
    "# median\n",
    "\n",
    "print(\"pakai pandas\")\n",
    "print(z.median())\n",
    "print(z_nan.median())"
   ]
  },
  {
   "cell_type": "code",
   "execution_count": 22,
   "metadata": {},
   "outputs": [
    {
     "name": "stdout",
     "output_type": "stream",
     "text": [
      "pakai numpy\n",
      "17.0\n",
      "nan tidak bisa handle missing value\n"
     ]
    }
   ],
   "source": [
    "print(\"pakai numpy\")\n",
    "print(np.median(y))\n",
    "print(np.median(y_nan), \"tidak bisa handle missing value\")"
   ]
  },
  {
   "cell_type": "code",
   "execution_count": 24,
   "metadata": {},
   "outputs": [
    {
     "name": "stdout",
     "output_type": "stream",
     "text": [
      "pakai package statistics dengan list\n",
      "17\n",
      "25.5 salah hitung, nan dianggap salah satu value\n"
     ]
    }
   ],
   "source": [
    "print(\"pakai package statistics dengan list\")\n",
    "print(statistics.median(x))\n",
    "print(statistics.median(x_nan), \"salah hitung, nan dianggap salah satu value\")"
   ]
  },
  {
   "cell_type": "code",
   "execution_count": 30,
   "metadata": {},
   "outputs": [
    {
     "name": "stdout",
     "output_type": "stream",
     "text": [
      "[ 3.  3.  3.  3.  5.  5. 11. 11. 11. 11.]\n"
     ]
    }
   ],
   "source": [
    "# mode\n",
    "\n",
    "# dummy data baru\n",
    "u = np.concatenate((np.ones(4) * 3 , np.ones(2) * 5 , np.ones(4) * 11))\n",
    "print(u)"
   ]
  },
  {
   "cell_type": "code",
   "execution_count": 31,
   "metadata": {},
   "outputs": [
    {
     "data": {
      "text/plain": [
       "3.0"
      ]
     },
     "execution_count": 31,
     "metadata": {},
     "output_type": "execute_result"
    }
   ],
   "source": [
    "# statistics\n",
    "statistics.mode(u)"
   ]
  },
  {
   "cell_type": "code",
   "execution_count": 36,
   "metadata": {},
   "outputs": [
    {
     "name": "stdout",
     "output_type": "stream",
     "text": [
      "ModeResult(mode=array([3.]), count=array([4]))\n",
      "3.0 4\n"
     ]
    }
   ],
   "source": [
    "# scipy stats\n",
    "\n",
    "print(scipy.stats.mode(u))\n",
    "mode, count = scipy.stats.mode(u)\n",
    "print(mode[0], count[0])"
   ]
  },
  {
   "cell_type": "code",
   "execution_count": 35,
   "metadata": {},
   "outputs": [
    {
     "data": {
      "text/plain": [
       "0     3.0\n",
       "1    11.0\n",
       "dtype: float64"
      ]
     },
     "execution_count": 35,
     "metadata": {},
     "output_type": "execute_result"
    }
   ],
   "source": [
    "# pandas\n",
    "pd.Series(u).mode()"
   ]
  },
  {
   "cell_type": "code",
   "execution_count": 41,
   "metadata": {},
   "outputs": [
    {
     "name": "stdout",
     "output_type": "stream",
     "text": [
      "rata2 biasa: 56.75\n",
      "weighted mean: 64.7\n"
     ]
    }
   ],
   "source": [
    "# Weighted Mean, Harmonic Mean, Geometric Mean\n",
    "\n",
    "# Weighted Mean\n",
    "# pr1, pr2, pr3, finals bobotnya beda2\n",
    "# finals 50%, pr 1 dan pr2 10%, pr3 30%\n",
    "\n",
    "bobot = [0.1,0.1,0.3,0.5]\n",
    "\n",
    "nilai_andi = [50,42,60,75]\n",
    "\n",
    "print(\"rata2 biasa:\", statistics.mean(nilai_andi))\n",
    "\n",
    "print(\"weighted mean:\", np.average(nilai_andi, weights=bobot))"
   ]
  },
  {
   "cell_type": "code",
   "execution_count": 44,
   "metadata": {},
   "outputs": [
    {
     "name": "stdout",
     "output_type": "stream",
     "text": [
      "rata2 biasa 23.4\n",
      "harmonic mean: 5.009541984732825\n",
      "harmonic mean: 5.009541984732825\n"
     ]
    }
   ],
   "source": [
    "# Harmonic Mean\n",
    "# sebuah perusahaan dengan 5 karyawan gaji nya gk rata\n",
    "\n",
    "gaji = [100, 6, 4, 3.5, 3.5]\n",
    "\n",
    "print(\"rata2 biasa\", statistics.mean(gaji))\n",
    "\n",
    "print(\"harmonic mean:\", statistics.harmonic_mean(gaji))\n",
    "print(\"harmonic mean:\", scipy.stats.hmean(gaji))"
   ]
  },
  {
   "cell_type": "code",
   "execution_count": 46,
   "metadata": {},
   "outputs": [
    {
     "name": "stdout",
     "output_type": "stream",
     "text": [
      "geometric mean\n",
      "seller A: 18.000000000000004\n",
      "seller B: 16.492422502470646\n"
     ]
    }
   ],
   "source": [
    "# Geometric Mean\n",
    "# seller A punya 108 review dan 3/5 bintang, \n",
    "# seller B punya 68 review dan 4/5 bintang, \n",
    "# mana seller yang lebih baik?\n",
    "\n",
    "sellerA = [108, 3]\n",
    "sellerB = [68, 4]\n",
    "\n",
    "print(\"geometric mean\")\n",
    "print(\"seller A:\", scipy.stats.gmean(sellerA))\n",
    "print(\"seller B:\", scipy.stats.gmean(sellerB))"
   ]
  },
  {
   "cell_type": "markdown",
   "metadata": {},
   "source": [
    "# Measure of Variability/ Spread\n",
    "\n",
    "- range - perbedaan max dan min\n",
    "- standard deviation - saat setiap data dicari perbedaannya dengan rata2, kemudian di kuadrat, dibagi jumlah data, dan di akar\n",
    "- variance - standard deviation kuadrat\n",
    "- quartile dan percentile\n",
    "    - percentile ke 25 = quartile 1\n",
    "    - percentile ke 50 = quartile 2 = median\n",
    "    - percentile ke 75 = quartile 3\n",
    "- inter-quartile range adalah perbedaan Q3 dan Q1"
   ]
  },
  {
   "cell_type": "code",
   "execution_count": 57,
   "metadata": {},
   "outputs": [
    {
     "name": "stdout",
     "output_type": "stream",
     "text": [
      "our dummy data\n",
      "[2, 36, 34, 17, 16] [2, 36, 34, 17, 16, nan]\n",
      "[ 2 36 34 17 16] [ 2. 36. 34. 17. 16. nan]\n"
     ]
    }
   ],
   "source": [
    "print(\"our dummy data\")\n",
    "print(x, x_nan)\n",
    "print(y, y_nan)\n",
    "# print(z, z_nan)"
   ]
  },
  {
   "cell_type": "markdown",
   "metadata": {},
   "source": [
    "# Ranges"
   ]
  },
  {
   "cell_type": "code",
   "execution_count": 54,
   "metadata": {},
   "outputs": [
    {
     "name": "stdout",
     "output_type": "stream",
     "text": [
      "34\n",
      "nan tidak bisa handle missing value\n",
      "34\n",
      "nan tidak bisa handle missing value\n"
     ]
    }
   ],
   "source": [
    "# pakai numpy\n",
    "print(y.max() - y.min())\n",
    "print(y_nan.max() - y_nan.min(), \"tidak bisa handle missing value\")\n",
    "print(np.ptp(y))\n",
    "print(np.ptp(y_nan), \"tidak bisa handle missing value\")"
   ]
  },
  {
   "cell_type": "code",
   "execution_count": 52,
   "metadata": {},
   "outputs": [
    {
     "name": "stdout",
     "output_type": "stream",
     "text": [
      "34\n",
      "34.0\n"
     ]
    }
   ],
   "source": [
    "# pakai pandas\n",
    "print(z.max() - z.min())\n",
    "print(z_nan.max() - z_nan.min())"
   ]
  },
  {
   "cell_type": "code",
   "execution_count": 56,
   "metadata": {},
   "outputs": [
    {
     "name": "stdout",
     "output_type": "stream",
     "text": [
      "34\n",
      "34\n"
     ]
    }
   ],
   "source": [
    "# vanilla python\n",
    "print(max(x) - min(x))\n",
    "print(max(x_nan) - min(x_nan))"
   ]
  },
  {
   "cell_type": "markdown",
   "metadata": {},
   "source": [
    "# Standard Deviation"
   ]
  },
  {
   "cell_type": "code",
   "execution_count": 65,
   "metadata": {},
   "outputs": [
    {
     "name": "stdout",
     "output_type": "stream",
     "text": [
      "pop\n",
      "12.617448236470002\n",
      "nan\n",
      "\n",
      "sample\n",
      "14.106735979665885\n",
      "nan\n"
     ]
    }
   ],
   "source": [
    "# pakai numpy\n",
    "# asumsi datanya population\n",
    "print(\"pop\")\n",
    "print(y.std())\n",
    "print(y_nan.std())\n",
    "print()\n",
    "\n",
    "# kita tambahkan opsi untuk bilang ini sample\n",
    "print(\"sample\")\n",
    "print(y.std(ddof=1))\n",
    "print(y_nan.std(ddof=1))"
   ]
  },
  {
   "cell_type": "code",
   "execution_count": 68,
   "metadata": {},
   "outputs": [
    {
     "name": "stdout",
     "output_type": "stream",
     "text": [
      "if data is sample\n",
      "14.106735979665885\n",
      "14.106735979665885\n"
     ]
    }
   ],
   "source": [
    "# pakai pandas\n",
    "# sudah asumsi datanya sample\n",
    "print(\"if data is sample\")\n",
    "print(z.std())\n",
    "print(z_nan.std())"
   ]
  },
  {
   "cell_type": "code",
   "execution_count": 67,
   "metadata": {},
   "outputs": [
    {
     "name": "stdout",
     "output_type": "stream",
     "text": [
      "if data is population\n",
      "12.617448236470002\n",
      "12.617448236470002\n"
     ]
    }
   ],
   "source": [
    "# kalau mau kasih tau pandas datanya population, kita tambahkan opsi\n",
    "print(\"if data is population\")\n",
    "print(z.std(ddof=0))\n",
    "print(z_nan.std(ddof=0))"
   ]
  },
  {
   "cell_type": "code",
   "execution_count": 70,
   "metadata": {},
   "outputs": [
    {
     "name": "stdout",
     "output_type": "stream",
     "text": [
      "if data is sample\n"
     ]
    },
    {
     "data": {
      "text/plain": [
       "14.106735979665885"
      ]
     },
     "execution_count": 70,
     "metadata": {},
     "output_type": "execute_result"
    }
   ],
   "source": [
    "# pakai package statistics\n",
    "print(\"if data is sample\")\n",
    "statistics.stdev(x)"
   ]
  },
  {
   "cell_type": "code",
   "execution_count": 72,
   "metadata": {},
   "outputs": [],
   "source": [
    "# statistics.stdev(x_nan) # error"
   ]
  },
  {
   "cell_type": "markdown",
   "metadata": {},
   "source": [
    "# Variance"
   ]
  },
  {
   "cell_type": "code",
   "execution_count": 73,
   "metadata": {},
   "outputs": [
    {
     "name": "stdout",
     "output_type": "stream",
     "text": [
      "pandas\n",
      "\n",
      "if data is sample\n",
      "199.0\n",
      "199.0\n",
      "\n",
      "if data is population\n",
      "159.2\n",
      "159.2\n"
     ]
    }
   ],
   "source": [
    "print(\"pandas\")\n",
    "print()\n",
    "\n",
    "print(\"if data is sample\")\n",
    "print(z.var())\n",
    "print(z_nan.var())\n",
    "print()\n",
    "\n",
    "print(\"if data is population\")\n",
    "print(z.var(ddof=0))\n",
    "print(z_nan.var(ddof=0))"
   ]
  },
  {
   "cell_type": "code",
   "execution_count": 74,
   "metadata": {},
   "outputs": [
    {
     "name": "stdout",
     "output_type": "stream",
     "text": [
      "numpy\n",
      "\n",
      "if data is sample\n",
      "199.0\n",
      "nan\n",
      "\n",
      "if data is population\n",
      "159.2\n",
      "nan\n"
     ]
    }
   ],
   "source": [
    "print(\"numpy\")\n",
    "print()\n",
    "\n",
    "print(\"if data is sample\")\n",
    "print(y.var(ddof=1))\n",
    "print(y_nan.var(ddof=1))\n",
    "print()\n",
    "\n",
    "print(\"if data is population\")\n",
    "print(y.var())\n",
    "print(y_nan.var())"
   ]
  },
  {
   "cell_type": "code",
   "execution_count": 76,
   "metadata": {},
   "outputs": [
    {
     "name": "stdout",
     "output_type": "stream",
     "text": [
      "statistics, if data is sample\n"
     ]
    },
    {
     "data": {
      "text/plain": [
       "199"
      ]
     },
     "execution_count": 76,
     "metadata": {},
     "output_type": "execute_result"
    }
   ],
   "source": [
    "print(\"statistics, if data is sample\")\n",
    "statistics.variance(x)"
   ]
  },
  {
   "cell_type": "markdown",
   "metadata": {},
   "source": [
    "# Quartile dan Percentile"
   ]
  },
  {
   "cell_type": "code",
   "execution_count": 82,
   "metadata": {},
   "outputs": [
    {
     "name": "stdout",
     "output_type": "stream",
     "text": [
      "pandas\n",
      "\n",
      "16.0 percentile ke 25 atau quartile 1\n",
      "\n",
      "0.25    16.0\n",
      "0.50    17.0\n",
      "0.75    34.0\n",
      "dtype: float64 q1 q2 q3\n",
      "\n",
      "0.25    16.0\n",
      "0.50    17.0\n",
      "0.75    34.0\n",
      "dtype: float64 dengan missing value tetap bisa handle\n"
     ]
    }
   ],
   "source": [
    "print(\"pandas\\n\")\n",
    "\n",
    "print(z.quantile(0.25), \"percentile ke 25 atau quartile 1\\n\")\n",
    "print(z.quantile([0.25, 0.50, 0.75]), \"q1 q2 q3\\n\")\n",
    "print(z_nan.quantile([0.25, 0.50, 0.75]), \"dengan missing value tetap bisa handle\")"
   ]
  },
  {
   "cell_type": "code",
   "execution_count": 84,
   "metadata": {},
   "outputs": [
    {
     "name": "stdout",
     "output_type": "stream",
     "text": [
      "numpy\n",
      "\n",
      "16.0\n",
      "[16. 17. 34.]\n",
      "nan\n",
      "[nan nan nan]\n"
     ]
    }
   ],
   "source": [
    "print(\"numpy\\n\")\n",
    "\n",
    "print(np.percentile(y, 25))\n",
    "print(np.percentile(y, [25, 50, 75]))\n",
    "print(np.percentile(y_nan, 25))\n",
    "print(np.percentile(y_nan, [25, 50, 75]))"
   ]
  },
  {
   "cell_type": "markdown",
   "metadata": {},
   "source": [
    "# Inter-quartile Range\n",
    "perbedaan Q3 dan Q1"
   ]
  },
  {
   "cell_type": "code",
   "execution_count": 87,
   "metadata": {},
   "outputs": [
    {
     "name": "stdout",
     "output_type": "stream",
     "text": [
      "18.0\n",
      "18.0\n"
     ]
    }
   ],
   "source": [
    "print(z.quantile(0.75) - z.quantile(0.25))\n",
    "\n",
    "print(np.percentile(y, 75) - np.percentile(y, 25))"
   ]
  },
  {
   "cell_type": "markdown",
   "metadata": {},
   "source": [
    "# Summary of Descriptive Statistics"
   ]
  },
  {
   "cell_type": "code",
   "execution_count": 86,
   "metadata": {},
   "outputs": [
    {
     "data": {
      "text/plain": [
       "count     5.000000\n",
       "mean     21.000000\n",
       "std      14.106736\n",
       "min       2.000000\n",
       "25%      16.000000\n",
       "50%      17.000000\n",
       "75%      34.000000\n",
       "max      36.000000\n",
       "dtype: float64"
      ]
     },
     "execution_count": 86,
     "metadata": {},
     "output_type": "execute_result"
    }
   ],
   "source": [
    "# pandas describe\n",
    "\n",
    "z.describe()"
   ]
  },
  {
   "cell_type": "code",
   "execution_count": 90,
   "metadata": {},
   "outputs": [
    {
     "data": {
      "text/plain": [
       "DescribeResult(nobs=5, minmax=(2, 36), mean=21.0, variance=199.0, skewness=-0.21907635230157116, kurtosis=-1.359132345142799)"
      ]
     },
     "execution_count": 90,
     "metadata": {},
     "output_type": "execute_result"
    }
   ],
   "source": [
    "# scipy stats\n",
    "scipy.stats.describe(x, ddof=1, bias=False)"
   ]
  },
  {
   "cell_type": "markdown",
   "metadata": {},
   "source": [
    "# Correlation"
   ]
  },
  {
   "cell_type": "code",
   "execution_count": 95,
   "metadata": {},
   "outputs": [],
   "source": [
    "# ambil data imigrasi Malaysia dan Singapore dari Canada.xlsx\n",
    "\n",
    "df_can = pd.read_excel(\"dataset/Canada.xlsx\", \n",
    "                sheet_name=\"Canada by Citizenship\", \n",
    "                skipfooter=2, \n",
    "                skiprows=20)\n",
    "df_can = df_can.drop(columns=['Type', 'Coverage',   'AREA', 'AreaName',      'REG',\n",
    "        'RegName',      'DEV',  'DevName',])\n",
    "df_can = df_can.rename(columns={\"OdName\":\"Country\"})\n",
    "df_can = df_can.set_index(\"Country\")\n",
    "\n",
    "# df_can.head()\n",
    "\n",
    "df_mysg = df_can.loc[[\"Malaysia\", \"Singapore\"]]"
   ]
  },
  {
   "cell_type": "code",
   "execution_count": 97,
   "metadata": {},
   "outputs": [
    {
     "data": {
      "text/html": [
       "<div>\n",
       "<style scoped>\n",
       "    .dataframe tbody tr th:only-of-type {\n",
       "        vertical-align: middle;\n",
       "    }\n",
       "\n",
       "    .dataframe tbody tr th {\n",
       "        vertical-align: top;\n",
       "    }\n",
       "\n",
       "    .dataframe thead th {\n",
       "        text-align: right;\n",
       "    }\n",
       "</style>\n",
       "<table border=\"1\" class=\"dataframe\">\n",
       "  <thead>\n",
       "    <tr style=\"text-align: right;\">\n",
       "      <th>Country</th>\n",
       "      <th>Malaysia</th>\n",
       "      <th>Singapore</th>\n",
       "    </tr>\n",
       "  </thead>\n",
       "  <tbody>\n",
       "    <tr>\n",
       "      <th>1980</th>\n",
       "      <td>786</td>\n",
       "      <td>241</td>\n",
       "    </tr>\n",
       "    <tr>\n",
       "      <th>1981</th>\n",
       "      <td>816</td>\n",
       "      <td>301</td>\n",
       "    </tr>\n",
       "    <tr>\n",
       "      <th>1982</th>\n",
       "      <td>813</td>\n",
       "      <td>337</td>\n",
       "    </tr>\n",
       "    <tr>\n",
       "      <th>1983</th>\n",
       "      <td>448</td>\n",
       "      <td>169</td>\n",
       "    </tr>\n",
       "    <tr>\n",
       "      <th>1984</th>\n",
       "      <td>384</td>\n",
       "      <td>128</td>\n",
       "    </tr>\n",
       "    <tr>\n",
       "      <th>1985</th>\n",
       "      <td>374</td>\n",
       "      <td>139</td>\n",
       "    </tr>\n",
       "    <tr>\n",
       "      <th>1986</th>\n",
       "      <td>425</td>\n",
       "      <td>205</td>\n",
       "    </tr>\n",
       "    <tr>\n",
       "      <th>1987</th>\n",
       "      <td>817</td>\n",
       "      <td>372</td>\n",
       "    </tr>\n",
       "    <tr>\n",
       "      <th>1988</th>\n",
       "      <td>2072</td>\n",
       "      <td>808</td>\n",
       "    </tr>\n",
       "    <tr>\n",
       "      <th>1989</th>\n",
       "      <td>2346</td>\n",
       "      <td>1269</td>\n",
       "    </tr>\n",
       "    <tr>\n",
       "      <th>1990</th>\n",
       "      <td>1917</td>\n",
       "      <td>843</td>\n",
       "    </tr>\n",
       "    <tr>\n",
       "      <th>1991</th>\n",
       "      <td>1338</td>\n",
       "      <td>657</td>\n",
       "    </tr>\n",
       "    <tr>\n",
       "      <th>1992</th>\n",
       "      <td>1486</td>\n",
       "      <td>492</td>\n",
       "    </tr>\n",
       "    <tr>\n",
       "      <th>1993</th>\n",
       "      <td>1000</td>\n",
       "      <td>474</td>\n",
       "    </tr>\n",
       "    <tr>\n",
       "      <th>1994</th>\n",
       "      <td>727</td>\n",
       "      <td>375</td>\n",
       "    </tr>\n",
       "    <tr>\n",
       "      <th>1995</th>\n",
       "      <td>490</td>\n",
       "      <td>407</td>\n",
       "    </tr>\n",
       "    <tr>\n",
       "      <th>1996</th>\n",
       "      <td>382</td>\n",
       "      <td>409</td>\n",
       "    </tr>\n",
       "    <tr>\n",
       "      <th>1997</th>\n",
       "      <td>319</td>\n",
       "      <td>287</td>\n",
       "    </tr>\n",
       "    <tr>\n",
       "      <th>1998</th>\n",
       "      <td>214</td>\n",
       "      <td>231</td>\n",
       "    </tr>\n",
       "    <tr>\n",
       "      <th>1999</th>\n",
       "      <td>299</td>\n",
       "      <td>437</td>\n",
       "    </tr>\n",
       "    <tr>\n",
       "      <th>2000</th>\n",
       "      <td>360</td>\n",
       "      <td>444</td>\n",
       "    </tr>\n",
       "    <tr>\n",
       "      <th>2001</th>\n",
       "      <td>460</td>\n",
       "      <td>473</td>\n",
       "    </tr>\n",
       "    <tr>\n",
       "      <th>2002</th>\n",
       "      <td>480</td>\n",
       "      <td>588</td>\n",
       "    </tr>\n",
       "    <tr>\n",
       "      <th>2003</th>\n",
       "      <td>419</td>\n",
       "      <td>391</td>\n",
       "    </tr>\n",
       "    <tr>\n",
       "      <th>2004</th>\n",
       "      <td>401</td>\n",
       "      <td>311</td>\n",
       "    </tr>\n",
       "    <tr>\n",
       "      <th>2005</th>\n",
       "      <td>593</td>\n",
       "      <td>392</td>\n",
       "    </tr>\n",
       "    <tr>\n",
       "      <th>2006</th>\n",
       "      <td>580</td>\n",
       "      <td>298</td>\n",
       "    </tr>\n",
       "    <tr>\n",
       "      <th>2007</th>\n",
       "      <td>600</td>\n",
       "      <td>690</td>\n",
       "    </tr>\n",
       "    <tr>\n",
       "      <th>2008</th>\n",
       "      <td>658</td>\n",
       "      <td>734</td>\n",
       "    </tr>\n",
       "    <tr>\n",
       "      <th>2009</th>\n",
       "      <td>640</td>\n",
       "      <td>366</td>\n",
       "    </tr>\n",
       "    <tr>\n",
       "      <th>2010</th>\n",
       "      <td>802</td>\n",
       "      <td>805</td>\n",
       "    </tr>\n",
       "    <tr>\n",
       "      <th>2011</th>\n",
       "      <td>409</td>\n",
       "      <td>219</td>\n",
       "    </tr>\n",
       "    <tr>\n",
       "      <th>2012</th>\n",
       "      <td>358</td>\n",
       "      <td>146</td>\n",
       "    </tr>\n",
       "    <tr>\n",
       "      <th>2013</th>\n",
       "      <td>204</td>\n",
       "      <td>141</td>\n",
       "    </tr>\n",
       "  </tbody>\n",
       "</table>\n",
       "</div>"
      ],
      "text/plain": [
       "Country  Malaysia  Singapore\n",
       "1980          786        241\n",
       "1981          816        301\n",
       "1982          813        337\n",
       "1983          448        169\n",
       "1984          384        128\n",
       "1985          374        139\n",
       "1986          425        205\n",
       "1987          817        372\n",
       "1988         2072        808\n",
       "1989         2346       1269\n",
       "1990         1917        843\n",
       "1991         1338        657\n",
       "1992         1486        492\n",
       "1993         1000        474\n",
       "1994          727        375\n",
       "1995          490        407\n",
       "1996          382        409\n",
       "1997          319        287\n",
       "1998          214        231\n",
       "1999          299        437\n",
       "2000          360        444\n",
       "2001          460        473\n",
       "2002          480        588\n",
       "2003          419        391\n",
       "2004          401        311\n",
       "2005          593        392\n",
       "2006          580        298\n",
       "2007          600        690\n",
       "2008          658        734\n",
       "2009          640        366\n",
       "2010          802        805\n",
       "2011          409        219\n",
       "2012          358        146\n",
       "2013          204        141"
      ]
     },
     "execution_count": 97,
     "metadata": {},
     "output_type": "execute_result"
    }
   ],
   "source": [
    "df_mysg = df_mysg.T\n",
    "df_mysg"
   ]
  },
  {
   "cell_type": "code",
   "execution_count": 98,
   "metadata": {},
   "outputs": [
    {
     "data": {
      "text/plain": [
       "<AxesSubplot:xlabel='Malaysia', ylabel='Singapore'>"
      ]
     },
     "execution_count": 98,
     "metadata": {},
     "output_type": "execute_result"
    },
    {
     "data": {
      "image/png": "[encoded data removed]",
      "text/plain": [
       "<Figure size 432x288 with 1 Axes>"
      ]
     },
     "metadata": {
      "needs_background": "light"
     },
     "output_type": "display_data"
    }
   ],
   "source": [
    "# secara visual, scatter plot\n",
    "df_mysg.plot(kind=\"scatter\", x=\"Malaysia\", y=\"Singapore\")"
   ]
  },
  {
   "cell_type": "code",
   "execution_count": 99,
   "metadata": {},
   "outputs": [
    {
     "data": {
      "text/plain": [
       "0.771549664108142"
      ]
     },
     "execution_count": 99,
     "metadata": {},
     "output_type": "execute_result"
    }
   ],
   "source": [
    "df_mysg[\"Malaysia\"].corr(df_mysg[\"Singapore\"])"
   ]
  },
  {
   "cell_type": "code",
   "execution_count": 100,
   "metadata": {},
   "outputs": [
    {
     "data": {
      "text/html": [
       "<div>\n",
       "<style scoped>\n",
       "    .dataframe tbody tr th:only-of-type {\n",
       "        vertical-align: middle;\n",
       "    }\n",
       "\n",
       "    .dataframe tbody tr th {\n",
       "        vertical-align: top;\n",
       "    }\n",
       "\n",
       "    .dataframe thead th {\n",
       "        text-align: right;\n",
       "    }\n",
       "</style>\n",
       "<table border=\"1\" class=\"dataframe\">\n",
       "  <thead>\n",
       "    <tr style=\"text-align: right;\">\n",
       "      <th>Country</th>\n",
       "      <th>China</th>\n",
       "      <th>India</th>\n",
       "    </tr>\n",
       "  </thead>\n",
       "  <tbody>\n",
       "    <tr>\n",
       "      <th>1980</th>\n",
       "      <td>5123</td>\n",
       "      <td>8880</td>\n",
       "    </tr>\n",
       "    <tr>\n",
       "      <th>1981</th>\n",
       "      <td>6682</td>\n",
       "      <td>8670</td>\n",
       "    </tr>\n",
       "    <tr>\n",
       "      <th>1982</th>\n",
       "      <td>3308</td>\n",
       "      <td>8147</td>\n",
       "    </tr>\n",
       "    <tr>\n",
       "      <th>1983</th>\n",
       "      <td>1863</td>\n",
       "      <td>7338</td>\n",
       "    </tr>\n",
       "    <tr>\n",
       "      <th>1984</th>\n",
       "      <td>1527</td>\n",
       "      <td>5704</td>\n",
       "    </tr>\n",
       "  </tbody>\n",
       "</table>\n",
       "</div>"
      ],
      "text/plain": [
       "Country  China  India\n",
       "1980      5123   8880\n",
       "1981      6682   8670\n",
       "1982      3308   8147\n",
       "1983      1863   7338\n",
       "1984      1527   5704"
      ]
     },
     "execution_count": 100,
     "metadata": {},
     "output_type": "execute_result"
    }
   ],
   "source": [
    "# coba lagi untuk China dan India\n",
    "\n",
    "df_cnin = df_can.loc[[\"China\", \"India\"]].T\n",
    "df_cnin.head()"
   ]
  },
  {
   "cell_type": "code",
   "execution_count": 101,
   "metadata": {},
   "outputs": [
    {
     "data": {
      "text/plain": [
       "<AxesSubplot:xlabel='China', ylabel='India'>"
      ]
     },
     "execution_count": 101,
     "metadata": {},
     "output_type": "execute_result"
    },
    {
     "data": {
      "image/png": "[encoded data removed]",
      "text/plain": [
       "<Figure size 432x288 with 1 Axes>"
      ]
     },
     "metadata": {
      "needs_background": "light"
     },
     "output_type": "display_data"
    }
   ],
   "source": [
    "df_cnin.plot(kind=\"scatter\", x=\"China\", y=\"India\")"
   ]
  },
  {
   "cell_type": "code",
   "execution_count": 102,
   "metadata": {},
   "outputs": [
    {
     "data": {
      "text/plain": [
       "0.94316189731992"
      ]
     },
     "execution_count": 102,
     "metadata": {},
     "output_type": "execute_result"
    }
   ],
   "source": [
    "df_cnin[\"China\"].corr(df_cnin[\"India\"])"
   ]
  },
  {
   "cell_type": "code",
   "execution_count": 103,
   "metadata": {},
   "outputs": [
    {
     "data": {
      "text/plain": [
       "1.0"
      ]
     },
     "execution_count": 103,
     "metadata": {},
     "output_type": "execute_result"
    }
   ],
   "source": [
    "df_cnin[\"China\"].corr(df_cnin[\"China\"])"
   ]
  },
  {
   "cell_type": "code",
   "execution_count": 105,
   "metadata": {},
   "outputs": [
    {
     "name": "stdout",
     "output_type": "stream",
     "text": [
      "0.9431618973199201\n"
     ]
    }
   ],
   "source": [
    "r, p = scipy.stats.pearsonr(df_cnin[\"China\"], df_cnin[\"India\"])\n",
    "print(r)"
   ]
  },
  {
   "cell_type": "code",
   "execution_count": null,
   "metadata": {},
   "outputs": [],
   "source": []
  }
 ],
 "metadata": {
  "kernelspec": {
   "display_name": "Python 3.9.7 ('base')",
   "language": "python",
   "name": "python3"
  },
  "language_info": {
   "codemirror_mode": {
    "name": "ipython",
    "version": 3
   },
   "file_extension": ".py",
   "mimetype": "text/x-python",
   "name": "python",
   "nbconvert_exporter": "python",
   "pygments_lexer": "ipython3",
   "version": "3.9.7"
  },
  "orig_nbformat": 4,
  "vscode": {
   "interpreter": {
    "hash": "4f523f7c76dd18e7ed336217f32f6f704c23c323644912475b9d3570cf04b060"
   }
  }
 },
 "nbformat": 4,
 "nbformat_minor": 2
}
