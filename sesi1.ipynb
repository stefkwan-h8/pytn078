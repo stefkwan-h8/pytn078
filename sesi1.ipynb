{
 "cells": [
  {
   "cell_type": "code",
   "execution_count": 1,
   "id": "af02c2c2-7514-41b5-a917-97cb79714faa",
   "metadata": {},
   "outputs": [
    {
     "name": "stdout",
     "output_type": "stream",
     "text": [
      "halo\n"
     ]
    }
   ],
   "source": [
    "print(\"halo\")"
   ]
  },
  {
   "cell_type": "code",
   "execution_count": 2,
   "id": "190333f0-e05c-4c6f-9b7c-c8a423a632f1",
   "metadata": {},
   "outputs": [
    {
     "name": "stdout",
     "output_type": "stream",
     "text": [
      "123\n",
      "<class 'int'>\n"
     ]
    }
   ],
   "source": [
    "# integer\n",
    "\n",
    "\n",
    "print(123)\n",
    "print(type(123))"
   ]
  },
  {
   "cell_type": "code",
   "execution_count": 3,
   "id": "b2a71a4e",
   "metadata": {},
   "outputs": [
    {
     "name": "stdout",
     "output_type": "stream",
     "text": [
      "123.0\n",
      "<class 'float'>\n"
     ]
    }
   ],
   "source": [
    "# floating point\n",
    "\n",
    "print(123.0)\n",
    "print(type(123.0))"
   ]
  },
  {
   "cell_type": "code",
   "execution_count": 4,
   "id": "e6caa1d9",
   "metadata": {},
   "outputs": [
    {
     "name": "stdout",
     "output_type": "stream",
     "text": [
      "123\n",
      "5.0\n"
     ]
    }
   ],
   "source": [
    "# convert data type\n",
    "\n",
    "print(int(123.5))\n",
    "print(float(5))"
   ]
  },
  {
   "cell_type": "code",
   "execution_count": 5,
   "id": "adef3178",
   "metadata": {},
   "outputs": [
    {
     "name": "stdout",
     "output_type": "stream",
     "text": [
      "hai\n",
      "<class 'str'>\n"
     ]
    }
   ],
   "source": [
    "# string\n",
    "# dikutip '' atau \"\"\n",
    "\n",
    "print('hai')\n",
    "print(type('hai'))"
   ]
  },
  {
   "cell_type": "code",
   "execution_count": 6,
   "id": "cd6e1a88",
   "metadata": {},
   "outputs": [
    {
     "name": "stdout",
     "output_type": "stream",
     "text": [
      "123.5\n",
      "5\n",
      "5\n",
      "5.0\n"
     ]
    }
   ],
   "source": [
    "# convert data type\n",
    "\n",
    "print(str(123.5))\n",
    "print(str(5))\n",
    "print(int('5'))\n",
    "print(float('5'))"
   ]
  },
  {
   "cell_type": "code",
   "execution_count": 7,
   "id": "b50d0e4f",
   "metadata": {},
   "outputs": [
    {
     "name": "stdout",
     "output_type": "stream",
     "text": [
      "<class 'str'>\n",
      "<class 'str'>\n",
      "<class 'int'>\n",
      "<class 'float'>\n"
     ]
    }
   ],
   "source": [
    "print(type( str(123.5)))\n",
    "print(type( str(5)))\n",
    "print(type( int('5')))\n",
    "print(type( float('5')))"
   ]
  },
  {
   "cell_type": "code",
   "execution_count": 8,
   "id": "eab6772f",
   "metadata": {},
   "outputs": [
    {
     "name": "stdout",
     "output_type": "stream",
     "text": [
      "True\n",
      "False\n",
      "<class 'bool'>\n"
     ]
    }
   ],
   "source": [
    "# boolean\n",
    "# True False\n",
    "print(True)\n",
    "print(False)\n",
    "print(type(False))"
   ]
  },
  {
   "cell_type": "code",
   "execution_count": 9,
   "id": "bf660a0f",
   "metadata": {},
   "outputs": [
    {
     "name": "stdout",
     "output_type": "stream",
     "text": [
      "True\n",
      "True\n",
      "True\n"
     ]
    }
   ],
   "source": [
    "# convert data type\n",
    "\n",
    "print(bool(123.5))\n",
    "print(bool(5))\n",
    "print(bool('5'))"
   ]
  },
  {
   "cell_type": "code",
   "execution_count": 10,
   "id": "5381a496",
   "metadata": {},
   "outputs": [
    {
     "name": "stdout",
     "output_type": "stream",
     "text": [
      "False\n",
      "False\n",
      "False\n",
      "False\n"
     ]
    }
   ],
   "source": [
    "# Falsy, data yang kalau di convert ke boolean akan jadi False\n",
    "print(bool(0))\n",
    "print(bool(0.0))\n",
    "print(bool(\"\"))\n",
    "print(bool(''))"
   ]
  },
  {
   "cell_type": "code",
   "execution_count": 11,
   "id": "9b3e3c0a",
   "metadata": {},
   "outputs": [
    {
     "name": "stdout",
     "output_type": "stream",
     "text": [
      "False\n",
      "False\n",
      "False\n"
     ]
    }
   ],
   "source": [
    "# list tuple dictionary\n",
    "# kalau kosong juga dianggap False\n",
    "print(bool([]))\n",
    "print(bool(()))\n",
    "print(bool({}))"
   ]
  },
  {
   "cell_type": "code",
   "execution_count": 12,
   "id": "f844be29",
   "metadata": {},
   "outputs": [
    {
     "name": "stdout",
     "output_type": "stream",
     "text": [
      "100\n"
     ]
    }
   ],
   "source": [
    "# variable\n",
    "# tipe data sebuah variable bebas\n",
    "n = 10\n",
    "n = 8.8\n",
    "n = \"hai\"\n",
    "n = True\n",
    "n = 100\n",
    "print(n)"
   ]
  },
  {
   "cell_type": "markdown",
   "id": "10e7cdf0",
   "metadata": {},
   "source": [
    "## rules penulisan variabel\n",
    "1. tidak dimulai dengan angka/simbol\n",
    "2. seluruh spasi diganti dengan _\n",
    "3. semuanya huruf kecil\n",
    "\n",
    "### sintaks penulisan nama di coding\n",
    "- camelCase --> function\n",
    "- snake_case --> variable\n",
    "- PascalCase --> class"
   ]
  },
  {
   "cell_type": "code",
   "execution_count": 13,
   "id": "c3738e91",
   "metadata": {},
   "outputs": [],
   "source": [
    "kelas78 = \"kelas python untuk data science\"\n",
    "nama_barang = \"Logitech Mouse 0\"\n",
    "NamaBarang = \"1\"\n",
    "Namabarang = \"2\"\n",
    "Nama_barang = \"3\"\n",
    "namaBarang = \"4\"\n",
    "_namaBarang = \"5\"\n",
    "_namaBarang_ = \"6\"\n",
    "_namaBarang_ = \"7\""
   ]
  },
  {
   "cell_type": "code",
   "execution_count": 14,
   "id": "355131ee",
   "metadata": {},
   "outputs": [
    {
     "name": "stdout",
     "output_type": "stream",
     "text": [
      "2\n"
     ]
    }
   ],
   "source": [
    "print(Namabarang)"
   ]
  },
  {
   "cell_type": "markdown",
   "id": "899c286f",
   "metadata": {},
   "source": [
    "penulisan nama variable di python itu case sensitive, jadi untuk mengurangi kesalahan kita selalu gunakan huruf kecil semua, dan spasi kita ganti jadi _"
   ]
  },
  {
   "cell_type": "code",
   "execution_count": 15,
   "id": "9f052ffe",
   "metadata": {},
   "outputs": [
    {
     "name": "stdout",
     "output_type": "stream",
     "text": [
      "110\n",
      "110\n",
      "90\n",
      "1000\n",
      "10.0\n",
      "0\n",
      "10000\n",
      "10.0\n"
     ]
    }
   ],
   "source": [
    "# masukkan data ke variable\n",
    "n = 100\n",
    "\n",
    "print(n + 10)\n",
    "\n",
    "# + - * / % **\n",
    "print(n + 10)\n",
    "print(n - 10)\n",
    "print(n * 10)\n",
    "print(n / 10)\n",
    "print(n % 10) # mendapat sisa dari hasil pembagian\n",
    "print(n ** 2)\n",
    "print(n ** 0.5)"
   ]
  },
  {
   "cell_type": "code",
   "execution_count": 16,
   "id": "29c03d1d",
   "metadata": {},
   "outputs": [
    {
     "name": "stdout",
     "output_type": "stream",
     "text": [
      "True\n",
      "True\n",
      "False\n",
      "True\n",
      "False\n",
      "True\n",
      "False\n"
     ]
    }
   ],
   "source": [
    "m = 75\n",
    "\n",
    "print(n > m)\n",
    "\n",
    "# > < >= <= != ==\n",
    "print(n > m)\n",
    "print(n < m)\n",
    "print(n >= m)\n",
    "print(n <= m)\n",
    "print(n != m)\n",
    "print(n == m)"
   ]
  },
  {
   "cell_type": "code",
   "execution_count": 17,
   "id": "a6e7bdee",
   "metadata": {},
   "outputs": [
    {
     "name": "stdout",
     "output_type": "stream",
     "text": [
      "halo halo Bandung\n"
     ]
    }
   ],
   "source": [
    "# string bisa kita manipulasi\n",
    "message = \"halo\"\n",
    "\n",
    "# +\n",
    "print(message + \" halo Bandung\")"
   ]
  },
  {
   "cell_type": "code",
   "execution_count": 18,
   "id": "2af1c0f9",
   "metadata": {},
   "outputs": [
    {
     "name": "stdout",
     "output_type": "stream",
     "text": [
      "data science for h8 class!\n",
      "DATA SCIENCE FOR H8 CLASS!\n",
      "Data Science For H8 Class!\n"
     ]
    }
   ],
   "source": [
    "# kita bisa juga ubah case nya\n",
    "message = \"data SCIENCE for H8 class!\"\n",
    "\n",
    "print(message.lower())\n",
    "print(message.upper())\n",
    "print(message.title())"
   ]
  },
  {
   "cell_type": "code",
   "execution_count": 19,
   "id": "475f5609",
   "metadata": {},
   "outputs": [
    {
     "name": "stdout",
     "output_type": "stream",
     "text": [
      "DATA science FOR h8 CLASS!\n",
      "Data science for h8 class!\n"
     ]
    }
   ],
   "source": [
    "\n",
    "print(message.swapcase())\n",
    "print(message.capitalize())"
   ]
  },
  {
   "cell_type": "code",
   "execution_count": 20,
   "id": "226d05a3",
   "metadata": {},
   "outputs": [
    {
     "name": "stdout",
     "output_type": "stream",
     "text": [
      "data SCIENCE for H8 class!\n",
      "False\n"
     ]
    }
   ],
   "source": [
    "# operator in untuk string\n",
    "# untuk mencari apakah ada text dalam text\n",
    "print(message)\n",
    "\n",
    "print(\"Hacktiv8\" in message)"
   ]
  },
  {
   "cell_type": "code",
   "execution_count": 21,
   "id": "bb2d8f09",
   "metadata": {},
   "outputs": [
    {
     "name": "stdout",
     "output_type": "stream",
     "text": [
      "True\n"
     ]
    }
   ],
   "source": [
    "print(\"H8\" in message)"
   ]
  },
  {
   "cell_type": "code",
   "execution_count": 22,
   "id": "6bf2b3ca",
   "metadata": {},
   "outputs": [
    {
     "name": "stdout",
     "output_type": "stream",
     "text": [
      "False\n"
     ]
    }
   ],
   "source": [
    "print(\"h8\" in message)"
   ]
  },
  {
   "cell_type": "code",
   "execution_count": 23,
   "id": "69cbcce9",
   "metadata": {},
   "outputs": [
    {
     "name": "stdout",
     "output_type": "stream",
     "text": [
      "True\n"
     ]
    }
   ],
   "source": [
    "print(\"h8\".lower() in message.lower())"
   ]
  },
  {
   "cell_type": "code",
   "execution_count": 24,
   "id": "9fac6111",
   "metadata": {},
   "outputs": [],
   "source": [
    "# tipe data terstuktur List Tuple Dictionary"
   ]
  },
  {
   "cell_type": "code",
   "execution_count": 25,
   "id": "a5898076",
   "metadata": {},
   "outputs": [
    {
     "name": "stdout",
     "output_type": "stream",
     "text": [
      "['apel', 'jeruk', 'duku']\n",
      "<class 'list'>\n"
     ]
    }
   ],
   "source": [
    "# List\n",
    "buah_buahan = [\"apel\", \"jeruk\", \"duku\"]\n",
    "print(buah_buahan)\n",
    "print(type(buah_buahan))"
   ]
  },
  {
   "cell_type": "code",
   "execution_count": 26,
   "id": "797fa512",
   "metadata": {},
   "outputs": [
    {
     "name": "stdout",
     "output_type": "stream",
     "text": [
      "['apel', 'jeruk', 'duku'] <class 'str'>\n",
      "['[', \"'\", 'a', 'p', 'e', 'l', \"'\", ',', ' ', \"'\", 'j', 'e', 'r', 'u', 'k', \"'\", ',', ' ', \"'\", 'd', 'u', 'k', 'u', \"'\", ']'] <class 'list'>\n"
     ]
    }
   ],
   "source": [
    "# convert data type list ke str\n",
    "str_buah = str(buah_buahan)\n",
    "print(str_buah, type(str_buah))\n",
    "\n",
    "list_buah = list(str_buah)\n",
    "print(list_buah, type(list_buah))"
   ]
  },
  {
   "cell_type": "code",
   "execution_count": 27,
   "id": "1f8750bc",
   "metadata": {},
   "outputs": [
    {
     "name": "stdout",
     "output_type": "stream",
     "text": [
      "--- read ---\n",
      "apel\n",
      "duku\n",
      "['apel', 'jeruk', 'duku']\n",
      "['jeruk', 'duku']\n",
      "['jeruk']\n",
      "['apel', 'jeruk']\n",
      "['apel', 'jeruk']\n",
      "--- update ---\n",
      "['apel', 'jeruk', 'duku', 'semangka']\n",
      "['apel', 'jeruk', 'semangka']\n",
      "['apel', 'pisang', 'semangka']\n",
      "--- delete ---\n",
      "['apel', 'semangka']\n",
      "['semangka']\n",
      "[]\n",
      "False\n"
     ]
    }
   ],
   "source": [
    "# List\n",
    "# CRUD - create read update delete\n",
    "\n",
    "# create\n",
    "buah_buahan = [\"apel\", \"jeruk\", \"duku\"]\n",
    "\n",
    "print(\"--- read ---\")\n",
    "\n",
    "# read\n",
    "# pakai index untuk ambil 1 item\n",
    "# item pertama, index 0\n",
    "print(buah_buahan[0])\n",
    "\n",
    "# item terakhir, index -1\n",
    "print(buah_buahan[-1])\n",
    "\n",
    "# teknik slicing untuk ambil bbrp item sekaligus\n",
    "# semua item\n",
    "print(buah_buahan[:])\n",
    "\n",
    "# 2 item terakhir\n",
    "print(buah_buahan[-2:])\n",
    "\n",
    "# item index -2, kedua dari terakhir\n",
    "print(buah_buahan[-2:-1])\n",
    "\n",
    "# 2 item pertama\n",
    "print(buah_buahan[:2])\n",
    "print(buah_buahan[0:2])\n",
    "\n",
    "print(\"--- update ---\")\n",
    "\n",
    "# update\n",
    "# nambah item\n",
    "buah_buahan.append(\"semangka\")\n",
    "print(buah_buahan)\n",
    "\n",
    "# kurangi item\n",
    "buah_buahan.remove(\"duku\")\n",
    "print(buah_buahan)\n",
    "\n",
    "# ubah item\n",
    "# misal kita mau ubah jeruk menjadi pisang\n",
    "buah_buahan[1] = \"pisang\"\n",
    "print(buah_buahan)\n",
    "\n",
    "print(\"--- delete ---\")\n",
    "\n",
    "# delete\n",
    "# bisa pakai remove, bisa pakai del\n",
    "buah_buahan.remove(\"pisang\")\n",
    "print(buah_buahan)\n",
    "\n",
    "del buah_buahan[0]\n",
    "print(buah_buahan)\n",
    "\n",
    "# del buah_buahan\n",
    "# print(buah_buahan)\n",
    "\n",
    "buah_buahan = []\n",
    "print(buah_buahan)\n",
    "print(bool(buah_buahan))"
   ]
  },
  {
   "cell_type": "code",
   "execution_count": 28,
   "id": "90b7e535",
   "metadata": {},
   "outputs": [
    {
     "name": "stdout",
     "output_type": "stream",
     "text": [
      "('apel', 'jeruk', 'mangga')\n",
      "<class 'tuple'>\n",
      "apel\n",
      "mangga\n",
      "('apel', 'jeruk', 'mangga')\n",
      "('jeruk', 'mangga')\n",
      "('jeruk',)\n",
      "('apel', 'jeruk')\n",
      "('apel', 'jeruk')\n"
     ]
    }
   ],
   "source": [
    "# Tuple\n",
    "buah_buahan = (\"apel\", \"jeruk\", \"mangga\")\n",
    "\n",
    "print(buah_buahan)\n",
    "print(type(buah_buahan))\n",
    "\n",
    "# cara baca menggunakan index\n",
    "# pakai index untuk ambil 1 item\n",
    "# item pertama, index 0\n",
    "print(buah_buahan[0])\n",
    "\n",
    "# item terakhir, index -1\n",
    "print(buah_buahan[-1])\n",
    "\n",
    "# teknik slicing untuk ambil bbrp item sekaligus\n",
    "# semua item\n",
    "print(buah_buahan[:])\n",
    "\n",
    "# 2 item terakhir\n",
    "print(buah_buahan[-2:])\n",
    "\n",
    "# item index -2, kedua dari terakhir\n",
    "print(buah_buahan[-2:-1])\n",
    "\n",
    "# 2 item pertama\n",
    "print(buah_buahan[:2])\n",
    "print(buah_buahan[0:2])\n"
   ]
  },
  {
   "cell_type": "code",
   "execution_count": 29,
   "id": "94f7772d",
   "metadata": {},
   "outputs": [],
   "source": [
    "# tuple tidak bisa diubah isinya\n",
    "\n",
    "# berikut akan error\n",
    "# buah_buahan[0] = \"kelapa\"\n",
    "# buah_buahan.append(\"melon\")"
   ]
  },
  {
   "cell_type": "code",
   "execution_count": 30,
   "id": "6d21d3a2",
   "metadata": {},
   "outputs": [
    {
     "name": "stdout",
     "output_type": "stream",
     "text": [
      "<class 'list'>\n",
      "<class 'tuple'>\n",
      "('apel', 'jeruk', 'mangga')\n"
     ]
    }
   ],
   "source": [
    "# convert list ke tuple dan sebaliknya bisa\n",
    "buah_buahan = list(buah_buahan)\n",
    "print(type(buah_buahan))\n",
    "\n",
    "buah_buahan = tuple(buah_buahan)\n",
    "print(type(buah_buahan))\n",
    "\n",
    "print(buah_buahan)"
   ]
  },
  {
   "cell_type": "code",
   "execution_count": 31,
   "id": "b841fafe",
   "metadata": {},
   "outputs": [
    {
     "name": "stdout",
     "output_type": "stream",
     "text": [
      "{'apel': 10, 'jeruk': 5, 'mangga': 3}\n",
      "<class 'dict'>\n"
     ]
    }
   ],
   "source": [
    "# Dictionary\n",
    "# tidak punya index\n",
    "# setiap item dalam dictionary adalah sepasang key:value\n",
    "# key menggantikan index\n",
    "# key harus string\n",
    "\n",
    "buah_buahan = {\"apel\":10, \"jeruk\":5, \"mangga\":3}\n",
    "print(buah_buahan)\n",
    "print(type(buah_buahan))"
   ]
  },
  {
   "cell_type": "code",
   "execution_count": 32,
   "id": "19472842",
   "metadata": {},
   "outputs": [
    {
     "name": "stdout",
     "output_type": "stream",
     "text": [
      "10\n"
     ]
    }
   ],
   "source": [
    "# akses/ read\n",
    "# pakai key\n",
    "print(buah_buahan[\"apel\"])"
   ]
  },
  {
   "cell_type": "code",
   "execution_count": 33,
   "id": "35afd7e7",
   "metadata": {},
   "outputs": [
    {
     "name": "stdout",
     "output_type": "stream",
     "text": [
      "['apel', 'jeruk', 'mangga']\n",
      "[10, 5, 3]\n",
      "[('apel', 10), ('jeruk', 5), ('mangga', 3)]\n"
     ]
    }
   ],
   "source": [
    "# apa saja key dictionary ini?\n",
    "print(list(buah_buahan.keys()))\n",
    "print(list(buah_buahan.values()))\n",
    "print(list(buah_buahan.items()))"
   ]
  },
  {
   "cell_type": "code",
   "execution_count": 34,
   "id": "53bb50df",
   "metadata": {},
   "outputs": [
    {
     "name": "stdout",
     "output_type": "stream",
     "text": [
      "{'apel': 10, 'jeruk': 5, 'mangga': 3, 'melon': 1}\n"
     ]
    }
   ],
   "source": [
    "# cara edit dictionary\n",
    "# menambah key baru\n",
    "buah_buahan[\"melon\"] = 1\n",
    "print(buah_buahan)"
   ]
  },
  {
   "cell_type": "code",
   "execution_count": 35,
   "id": "54aa900d",
   "metadata": {},
   "outputs": [
    {
     "name": "stdout",
     "output_type": "stream",
     "text": [
      "{'apel': 10, 'mangga': 3, 'melon': 1}\n"
     ]
    }
   ],
   "source": [
    "# mengurangi key\n",
    "del buah_buahan[\"jeruk\"]\n",
    "print(buah_buahan)"
   ]
  },
  {
   "cell_type": "code",
   "execution_count": 36,
   "id": "63a9b698",
   "metadata": {},
   "outputs": [
    {
     "name": "stdout",
     "output_type": "stream",
     "text": [
      "{'apel': 0, 'mangga': 3, 'melon': 1}\n"
     ]
    }
   ],
   "source": [
    "# edit value sebuah key\n",
    "buah_buahan[\"apel\"] = 0\n",
    "print(buah_buahan)"
   ]
  },
  {
   "cell_type": "code",
   "execution_count": 37,
   "id": "2b6b013a",
   "metadata": {},
   "outputs": [
    {
     "name": "stdout",
     "output_type": "stream",
     "text": [
      "{'nama': 'Andhika', 'anak': [{'nama': 'Budi'}, {'nama': 'Janet'}, {'nama': 'Hasnah'}], 'hobi': ['tidur', 'makan', 'sepeda']}\n"
     ]
    }
   ],
   "source": [
    "orang = {\n",
    "    \"nama\": \"Andhika\",\n",
    "    \"anak\": [\n",
    "        {\"nama\":\"Budi\"},\n",
    "        {\"nama\":\"Janet\"},\n",
    "        {\"nama\":\"Hasnah\"},\n",
    "    ],\n",
    "    \"hobi\": [\"tidur\", \"makan\", \"sepeda\"]\n",
    "}\n",
    "\n",
    "print(orang)"
   ]
  },
  {
   "cell_type": "code",
   "execution_count": 38,
   "id": "28f6cc83",
   "metadata": {},
   "outputs": [],
   "source": [
    "orang = {\n",
    "    \"nama\": \"Andhika\", \n",
    "    \"anak\": [\n",
    "        {\"nama\":\"Budi\"}, \n",
    "        {\"nama\":\"Janet\"}, \n",
    "        {\"nama\":\"Hasnah\"},\n",
    "    ], \n",
    "    \"hobi\": [\"tidur\", \"makan\", \"sepeda\"]\n",
    "}"
   ]
  }
 ],
 "metadata": {
  "interpreter": {
   "hash": "4f523f7c76dd18e7ed336217f32f6f704c23c323644912475b9d3570cf04b060"
  },
  "kernelspec": {
   "display_name": "Python 3.9.7 ('base')",
   "language": "python",
   "name": "python3"
  },
  "language_info": {
   "codemirror_mode": {
    "name": "ipython",
    "version": 3
   },
   "file_extension": ".py",
   "mimetype": "text/x-python",
   "name": "python",
   "nbconvert_exporter": "python",
   "pygments_lexer": "ipython3",
   "version": "3.9.7"
  }
 },
 "nbformat": 4,
 "nbformat_minor": 5
}
