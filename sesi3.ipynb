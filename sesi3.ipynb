{
 "cells": [
  {
   "cell_type": "code",
   "execution_count": 1,
   "metadata": {},
   "outputs": [],
   "source": [
    "# function, module, package"
   ]
  },
  {
   "cell_type": "code",
   "execution_count": 1,
   "metadata": {},
   "outputs": [],
   "source": [
    "# membuat function untuk menghitung jumlah \"red\" dalam sebuah list\n",
    "\n",
    "def hitungRed():\n",
    "\n",
    "    ember = [\"red\", \"red\",\"red\", \"green\", \"green\",\"red\", \"green\",\"red\", \"green\",\"red\", \"green\",\"red\", \"green\"]\n",
    "\n",
    "    # cek di dalam ember ada berapa \"red\"?\n",
    "\n",
    "    counter = 0\n",
    "    # untuk setiap item dalam ember\n",
    "    for bola in ember:\n",
    "        # print(bola, counter)\n",
    "        if (bola == \"red\"):\n",
    "            counter = counter + 1\n",
    "\n",
    "    print(counter)"
   ]
  },
  {
   "cell_type": "code",
   "execution_count": 4,
   "metadata": {},
   "outputs": [
    {
     "name": "stdout",
     "output_type": "stream",
     "text": [
      "7\n",
      "7\n",
      "7\n",
      "7\n",
      "7\n"
     ]
    }
   ],
   "source": [
    "# kita bisa panggil function nya berkali kali\n",
    "hitungRed()\n",
    "hitungRed()\n",
    "hitungRed()\n",
    "hitungRed()\n",
    "hitungRed()"
   ]
  },
  {
   "cell_type": "code",
   "execution_count": 5,
   "metadata": {},
   "outputs": [],
   "source": [
    "# untuk sedikit kita custom inputnya\n",
    "# misal isi ember beda2\n",
    "# kita tambahkan argument/ parameter ke function nya\n",
    "# ini adalah variable spesial milik function tersebut yang perlu kita isi saat mau jalanin functionnya"
   ]
  },
  {
   "cell_type": "code",
   "execution_count": 15,
   "metadata": {},
   "outputs": [],
   "source": [
    "def hitungRed(ember):\n",
    "    # cek di dalam ember ada berapa \"red\"?\n",
    "\n",
    "    counter = 0\n",
    "    # untuk setiap item dalam ember\n",
    "    for bola in ember:\n",
    "        # print(bola, counter)\n",
    "        if (bola == \"red\"):\n",
    "            counter = counter + 1\n",
    "\n",
    "    print(counter)"
   ]
  },
  {
   "cell_type": "code",
   "execution_count": 10,
   "metadata": {},
   "outputs": [
    {
     "name": "stdout",
     "output_type": "stream",
     "text": [
      "3\n",
      "2\n",
      "4\n"
     ]
    }
   ],
   "source": [
    "hitungRed([\"red\",\"red\",\"red\"])\n",
    "hitungRed([\"red\",\"red\"])\n",
    "hitungRed([\"red\",\"red\",\"red\",\"red\"])"
   ]
  },
  {
   "cell_type": "code",
   "execution_count": 11,
   "metadata": {},
   "outputs": [],
   "source": [
    "# bisa juga argumen lebih dari satu\n",
    "# misalkan kita mau kasih ember isi bola warna2 DAN juga memilih mau hitung warna apa"
   ]
  },
  {
   "cell_type": "code",
   "execution_count": 16,
   "metadata": {},
   "outputs": [],
   "source": [
    "def hitungWarna(ember, warna):\n",
    "    # cek di dalam ember ada berapa warna tertentu?\n",
    "\n",
    "    counter = 0\n",
    "    # untuk setiap item dalam ember\n",
    "    for bola in ember:\n",
    "        # print(bola, counter)\n",
    "        if (bola.lower() == warna.lower()):\n",
    "            counter = counter + 1\n",
    "\n",
    "    print(counter)"
   ]
  },
  {
   "cell_type": "code",
   "execution_count": 19,
   "metadata": {},
   "outputs": [
    {
     "name": "stdout",
     "output_type": "stream",
     "text": [
      "0\n",
      "1\n",
      "3\n"
     ]
    }
   ],
   "source": [
    "hitungWarna([\"red\",\"red\",\"red\",\"red\"], \"blue\")\n",
    "hitungWarna([\"red\",\"red\",\"red\",\"blue\"], \"blue\")\n",
    "hitungWarna([\"red\",\"red\",\"red\",\"blue\"], \"red\")"
   ]
  },
  {
   "cell_type": "code",
   "execution_count": 21,
   "metadata": {},
   "outputs": [
    {
     "name": "stdout",
     "output_type": "stream",
     "text": [
      "['apel', 'pisang', 'jeruk', 'semangka']\n"
     ]
    }
   ],
   "source": [
    "# tipe data terstruktur seperti list, tuple, dictionary\n",
    "# jika kita berikan ke variable lain, hanya akan di copy secara reference, bukan value nya yang di copy\n",
    "\n",
    "buah_buahan = [\"apel\", \"pisang\", \"jeruk\"]\n",
    "\n",
    "copy_buah = buah_buahan\n",
    "# *copy_buah tidak meng copy isi dari variable buah_buahan\n",
    "# cuma kasih nama lain ke variable buah_buahan\n",
    "\n",
    "copy_buah.append(\"semangka\")\n",
    "\n",
    "print(buah_buahan)"
   ]
  },
  {
   "cell_type": "code",
   "execution_count": 22,
   "metadata": {},
   "outputs": [],
   "source": [
    "# misal kita punya function yang mengubah parameter\n",
    "# misalkan semua string jadi huruf besar\n",
    "\n",
    "def capitalize(list_of_words):\n",
    "    index = 0\n",
    "    while (index < len(list_of_words)):\n",
    "        list_of_words[index] = list_of_words[index].upper()\n",
    "        index = index + 1\n",
    "    print(list_of_words)"
   ]
  },
  {
   "cell_type": "code",
   "execution_count": 23,
   "metadata": {},
   "outputs": [
    {
     "name": "stdout",
     "output_type": "stream",
     "text": [
      "['APEL', 'PISANG', 'JERUK', 'SEMANGKA']\n"
     ]
    }
   ],
   "source": [
    "capitalize(buah_buahan)"
   ]
  },
  {
   "cell_type": "code",
   "execution_count": 24,
   "metadata": {},
   "outputs": [
    {
     "name": "stdout",
     "output_type": "stream",
     "text": [
      "['APEL', 'PISANG', 'JERUK', 'SEMANGKA']\n"
     ]
    }
   ],
   "source": [
    "print(buah_buahan)"
   ]
  },
  {
   "cell_type": "code",
   "execution_count": 25,
   "metadata": {},
   "outputs": [],
   "source": [
    "# tidak baik bagi function untuk mengubah data yang dia terima\n",
    "# bisa terjadi error yang fatal"
   ]
  },
  {
   "cell_type": "code",
   "execution_count": 26,
   "metadata": {},
   "outputs": [],
   "source": [
    "# jadi lebih baik, kita buat dulu \"deep copy\" untuk tipe data terstruktur\n",
    "# sebelum kita ubah2"
   ]
  },
  {
   "cell_type": "code",
   "execution_count": 27,
   "metadata": {},
   "outputs": [],
   "source": [
    "def capitalize(list_of_words):\n",
    "    copy_list = list_of_words.copy()\n",
    "    index = 0\n",
    "    while (index < len(copy_list)):\n",
    "        copy_list[index] = copy_list[index].upper()\n",
    "        index = index + 1\n",
    "    print(copy_list)"
   ]
  },
  {
   "cell_type": "code",
   "execution_count": 28,
   "metadata": {},
   "outputs": [
    {
     "name": "stdout",
     "output_type": "stream",
     "text": [
      "['APEL', 'JERUK', 'NANAS']\n"
     ]
    }
   ],
   "source": [
    "buah_buahan = [\"apel\", \"jeruk\", \"nanas\"]\n",
    "\n",
    "capitalize(buah_buahan)"
   ]
  },
  {
   "cell_type": "code",
   "execution_count": 29,
   "metadata": {},
   "outputs": [
    {
     "name": "stdout",
     "output_type": "stream",
     "text": [
      "['apel', 'jeruk', 'nanas']\n"
     ]
    }
   ],
   "source": [
    "print(buah_buahan)"
   ]
  },
  {
   "cell_type": "code",
   "execution_count": 30,
   "metadata": {},
   "outputs": [
    {
     "name": "stdout",
     "output_type": "stream",
     "text": [
      "10\n"
     ]
    }
   ],
   "source": [
    "# untuk tipe data string boolean int float, tidak perlu di \"deep\" copy\n",
    "# karena sudah pass by value\n",
    "\n",
    "n = 10\n",
    "\n",
    "m = n\n",
    "# tidak beda dengan menulis m = 10\n",
    "\n",
    "m = m + 100\n",
    "\n",
    "print(n)"
   ]
  },
  {
   "cell_type": "code",
   "execution_count": 31,
   "metadata": {},
   "outputs": [],
   "source": [
    "# sejauh ini kita memakai required argument, atau argument yang harus diisi\n",
    "# tapi kita juga bisa membuat argument yang tidak harus diisi, namanya default argument"
   ]
  },
  {
   "cell_type": "code",
   "execution_count": 33,
   "metadata": {},
   "outputs": [],
   "source": [
    "# contoh required argument, harus diisi\n",
    "def menyapa(nama):\n",
    "    print(\"halo\", nama)"
   ]
  },
  {
   "cell_type": "code",
   "execution_count": 35,
   "metadata": {},
   "outputs": [
    {
     "name": "stdout",
     "output_type": "stream",
     "text": [
      "halo andi\n"
     ]
    }
   ],
   "source": [
    "menyapa(\"andi\")"
   ]
  },
  {
   "cell_type": "code",
   "execution_count": 36,
   "metadata": {},
   "outputs": [],
   "source": [
    "# contoh default argument\n",
    "def menyapa(nama = \"pak/bu\"):\n",
    "    print(\"halo\", nama)"
   ]
  },
  {
   "cell_type": "code",
   "execution_count": 37,
   "metadata": {},
   "outputs": [
    {
     "name": "stdout",
     "output_type": "stream",
     "text": [
      "halo pak/bu\n"
     ]
    }
   ],
   "source": [
    "menyapa()"
   ]
  },
  {
   "cell_type": "code",
   "execution_count": 38,
   "metadata": {},
   "outputs": [
    {
     "name": "stdout",
     "output_type": "stream",
     "text": [
      "halo andi\n"
     ]
    }
   ],
   "source": [
    "menyapa(\"andi\")"
   ]
  },
  {
   "cell_type": "code",
   "execution_count": 39,
   "metadata": {},
   "outputs": [],
   "source": [
    "# contoh default argument dengan dua argument\n",
    "def menyapa(nama = \"pak/bu\", waktu = \"siang\"):\n",
    "    print(\"halo\", nama, \"selamat\", waktu)"
   ]
  },
  {
   "cell_type": "code",
   "execution_count": 42,
   "metadata": {},
   "outputs": [
    {
     "name": "stdout",
     "output_type": "stream",
     "text": [
      "halo andi selamat pagi\n"
     ]
    }
   ],
   "source": [
    "menyapa(\"andi\", \"pagi\")"
   ]
  },
  {
   "cell_type": "code",
   "execution_count": 43,
   "metadata": {},
   "outputs": [
    {
     "name": "stdout",
     "output_type": "stream",
     "text": [
      "halo pak/bu selamat sore\n"
     ]
    }
   ],
   "source": [
    "# contoh keyword argument\n",
    "menyapa(waktu=\"sore\")"
   ]
  },
  {
   "cell_type": "code",
   "execution_count": 44,
   "metadata": {},
   "outputs": [],
   "source": [
    "# bisa ada semua jenis argument\n",
    "def menyapa(tempat, nama = \"pak/bu\", waktu = \"siang\"):\n",
    "    print(\"selamat datang di\", tempat)\n",
    "    print(\"halo\", nama, \"selamat\", waktu)"
   ]
  },
  {
   "cell_type": "code",
   "execution_count": 45,
   "metadata": {},
   "outputs": [
    {
     "name": "stdout",
     "output_type": "stream",
     "text": [
      "selamat datang di Hacktiv8\n",
      "halo pak/bu selamat sore\n"
     ]
    }
   ],
   "source": [
    "# bisa isi pakai keyword argument\n",
    "menyapa(waktu=\"sore\", tempat=\"Hacktiv8\")"
   ]
  },
  {
   "cell_type": "code",
   "execution_count": 46,
   "metadata": {},
   "outputs": [
    {
     "name": "stdout",
     "output_type": "stream",
     "text": [
      "selamat datang di kantor\n",
      "halo Kevin selamat pagi\n"
     ]
    }
   ],
   "source": [
    "# mau isi tanpa keyword argument, atau campur2 juga bisa\n",
    "menyapa(\"kantor\", \"Kevin\", \"pagi\")"
   ]
  },
  {
   "cell_type": "code",
   "execution_count": 47,
   "metadata": {},
   "outputs": [
    {
     "name": "stdout",
     "output_type": "stream",
     "text": [
      "selamat datang di kantor\n",
      "halo pak/bu selamat malam\n"
     ]
    }
   ],
   "source": [
    "menyapa(\"kantor\", waktu=\"malam\")"
   ]
  },
  {
   "cell_type": "code",
   "execution_count": 48,
   "metadata": {},
   "outputs": [],
   "source": [
    "# variable length argument membuat tuple dari variable yang kita berikan\n",
    "# kita bisa kasih 0- banyak variable ke function nya"
   ]
  },
  {
   "cell_type": "code",
   "execution_count": 49,
   "metadata": {},
   "outputs": [],
   "source": [
    "# tempat adalah required argument\n",
    "# waktu adalah default argument\n",
    "# nama adalah variable-length argument\n",
    "\n",
    "def menyapa(tempat, waktu = \"siang\", *nama):\n",
    "    print(\"selamat datang di\", tempat)\n",
    "\n",
    "    for n in nama:\n",
    "        print(\"halo\", n, \"selamat\", waktu)"
   ]
  },
  {
   "cell_type": "code",
   "execution_count": 50,
   "metadata": {},
   "outputs": [
    {
     "name": "stdout",
     "output_type": "stream",
     "text": [
      "selamat datang di kantor\n"
     ]
    }
   ],
   "source": [
    "menyapa(\"kantor\", \"sore\")"
   ]
  },
  {
   "cell_type": "code",
   "execution_count": 51,
   "metadata": {},
   "outputs": [
    {
     "name": "stdout",
     "output_type": "stream",
     "text": [
      "selamat datang di kantor\n",
      "halo andi selamat sore\n",
      "halo liliana selamat sore\n",
      "halo budi selamat sore\n"
     ]
    }
   ],
   "source": [
    "menyapa(\"kantor\", \"sore\", \"andi\", \"liliana\", \"budi\")"
   ]
  },
  {
   "cell_type": "code",
   "execution_count": 53,
   "metadata": {},
   "outputs": [],
   "source": [
    "# menyapa(waktu=\"sore\", tempat=\"Hacktiv8\", \"andi\", \"liliana\", \"budi\")\n",
    "# ini error karena keyword dan variable length argument tidak bisa digabung"
   ]
  },
  {
   "cell_type": "code",
   "execution_count": null,
   "metadata": {},
   "outputs": [],
   "source": []
  }
 ],
 "metadata": {
  "interpreter": {
   "hash": "4f523f7c76dd18e7ed336217f32f6f704c23c323644912475b9d3570cf04b060"
  },
  "kernelspec": {
   "display_name": "Python 3.9.7 ('base')",
   "language": "python",
   "name": "python3"
  },
  "language_info": {
   "codemirror_mode": {
    "name": "ipython",
    "version": 3
   },
   "file_extension": ".py",
   "mimetype": "text/x-python",
   "name": "python",
   "nbconvert_exporter": "python",
   "pygments_lexer": "ipython3",
   "version": "3.9.7"
  },
  "orig_nbformat": 4
 },
 "nbformat": 4,
 "nbformat_minor": 2
}
