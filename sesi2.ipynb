{
 "cells": [
  {
   "cell_type": "code",
   "execution_count": 2,
   "metadata": {},
   "outputs": [
    {
     "name": "stdout",
     "output_type": "stream",
     "text": [
      "n lebih besar dari m\n"
     ]
    }
   ],
   "source": [
    "# conditional\n",
    "n = 100\n",
    "m = 89\n",
    "\n",
    "if (n < m):\n",
    "    print(\"n lebih kecil dari m\")\n",
    "\n",
    "if (n > m):\n",
    "    print(\"n lebih besar dari m\")"
   ]
  },
  {
   "cell_type": "code",
   "execution_count": 4,
   "metadata": {},
   "outputs": [
    {
     "name": "stdout",
     "output_type": "stream",
     "text": [
      "n lebih kecil dari m\n"
     ]
    }
   ],
   "source": [
    "n = 100\n",
    "m = 890\n",
    "\n",
    "if (n < m):\n",
    "    print(\"n lebih kecil dari m\")\n",
    "else:\n",
    "    print(\"n<m adalah False\")"
   ]
  },
  {
   "cell_type": "markdown",
   "metadata": {},
   "source": [
    "### latihan\n",
    "- buat sebuah dictionary orang yang punya nama dan hobi\n",
    "- nama nya string, misalkan \"Andi\"\n",
    "- hobi nya list isi string, misalkan [\"belajar\", \"bermain\"]\n",
    "- coba buat kondisi apakah hobi orang tersebut ada \"bulutangkis\"\n",
    "    - jika ada, print \"Andi suka main bulutangkis\"\n",
    "    - jika tidak, print \"Andi tidak suka main bulutangkis\""
   ]
  },
  {
   "cell_type": "code",
   "execution_count": 10,
   "metadata": {},
   "outputs": [
    {
     "name": "stdout",
     "output_type": "stream",
     "text": [
      "Andi tidak suka main bulutangkis\n"
     ]
    }
   ],
   "source": [
    "orang = {\n",
    "    \"nama\": \"Andi\", \n",
    "    \"hobi\": [\"belajar\", \"bermain\"]\n",
    "}\n",
    "\n",
    "if(\"bulutangkis\" in orang[\"hobi\"]):\n",
    "    print(orang[\"nama\"] + \" suka main bulutangkis\")\n",
    "else:\n",
    "    print(orang[\"nama\"] + \" tidak suka main bulutangkis\")\n"
   ]
  },
  {
   "cell_type": "code",
   "execution_count": 12,
   "metadata": {},
   "outputs": [],
   "source": [
    "# pass statement\n",
    "# ada saatnya kita sudah memikirkan kondisi code, tapi belum code nya sendiri\n",
    "if(\"bulutangkis\" in orang[\"hobi\"]):\n",
    "    # belum tau mau ngapain kalau true\n",
    "    pass"
   ]
  },
  {
   "cell_type": "markdown",
   "metadata": {},
   "source": [
    "misalkan kita punya pertanyaan yang senada,   \n",
    "pengecekan hal yang sama ber kali kali   \n",
    "seperti kasih grade A B C D F ke murid   \n",
    "- A untuk nilai 90-100\n",
    "- B untuk nilai 80-89\n",
    "- C untuk nilai 70-79\n",
    "- D untuk nilai 60-69\n",
    "- F untuk nilai 0-59"
   ]
  },
  {
   "cell_type": "code",
   "execution_count": 18,
   "metadata": {},
   "outputs": [
    {
     "name": "stdout",
     "output_type": "stream",
     "text": [
      "50 dapat grade F\n"
     ]
    }
   ],
   "source": [
    "nilai = 50\n",
    "grade = \"-\"\n",
    "\n",
    "if (nilai >= 90):\n",
    "    grade = \"A\"\n",
    "elif (nilai >= 80):\n",
    "    grade = \"B\"\n",
    "elif (nilai >= 70):\n",
    "    grade = \"C\"\n",
    "elif (nilai >= 60):\n",
    "    grade = \"D\"\n",
    "else:\n",
    "    grade = \"F\"\n",
    "\n",
    "print(nilai, \"dapat grade\", grade)"
   ]
  },
  {
   "cell_type": "markdown",
   "metadata": {},
   "source": [
    "### latihan\n",
    "diberikan sebuah list berisi barang-barang jualan yang ada nama, stok, dan harga   \n",
    "- coba cek apakah item pertama punya stok lebih dari 5\n",
    "- print nama item terakhir\n",
    "- totalkan jumlah harga * stok semua barang jualan"
   ]
  },
  {
   "cell_type": "code",
   "execution_count": 25,
   "metadata": {},
   "outputs": [
    {
     "name": "stdout",
     "output_type": "stream",
     "text": [
      "kacamata rayban\n",
      "False\n",
      "penghapus boxy\n",
      "2170000\n"
     ]
    }
   ],
   "source": [
    "barang_jualan = [\n",
    "    {\"nama\": \"kacamata rayban\", \"stok\": 3, \"harga\": 350000},\n",
    "    {\"nama\": \"pen hitam\", \"stok\": 200, \"harga\": 3500},\n",
    "    {\"nama\": \"penghapus boxy\", \"stok\": 24, \"harga\": 17500},\n",
    "]\n",
    "\n",
    "# contoh, ambil nama item pertama\n",
    "print(barang_jualan[0][\"nama\"])\n",
    "\n",
    "#\n",
    "print(barang_jualan[0][\"stok\"] > 5)\n",
    "\n",
    "#\n",
    "print(barang_jualan[-1][\"nama\"])\n",
    "\n",
    "#\n",
    "print(\n",
    "    barang_jualan[0][\"stok\"] * barang_jualan[0][\"harga\"] +\n",
    "    barang_jualan[1][\"stok\"] * barang_jualan[1][\"harga\"] +\n",
    "    barang_jualan[2][\"stok\"] * barang_jualan[2][\"harga\"]\n",
    "    )"
   ]
  },
  {
   "cell_type": "code",
   "execution_count": 1,
   "metadata": {},
   "outputs": [],
   "source": [
    "# percabangan\n",
    "# menggunakan kondisi untuk membuat alur code yg berbeda"
   ]
  },
  {
   "cell_type": "code",
   "execution_count": 2,
   "metadata": {},
   "outputs": [
    {
     "name": "stdout",
     "output_type": "stream",
     "text": [
      "lulus\n"
     ]
    }
   ],
   "source": [
    "nilai = 60\n",
    "\n",
    "kondisi = nilai > 50\n",
    "\n",
    "if kondisi:\n",
    "    # jika kondisi True, maka code akan kesini\n",
    "    print(\"lulus\")"
   ]
  },
  {
   "cell_type": "code",
   "execution_count": 4,
   "metadata": {},
   "outputs": [],
   "source": [
    "nilai = 30\n",
    "\n",
    "\n",
    "\n",
    "if nilai > 50:\n",
    "    # jika kondisi True, maka code akan kesini\n",
    "    print(\"lulus\")"
   ]
  },
  {
   "cell_type": "code",
   "execution_count": 5,
   "metadata": {},
   "outputs": [],
   "source": [
    "# kita bisa membuat cabang untuk saat kondisi False\n",
    "# gunakan else"
   ]
  },
  {
   "cell_type": "code",
   "execution_count": 7,
   "metadata": {},
   "outputs": [
    {
     "name": "stdout",
     "output_type": "stream",
     "text": [
      "lulus\n"
     ]
    }
   ],
   "source": [
    "nilai = 60\n",
    "\n",
    "\n",
    "\n",
    "if nilai > 50:\n",
    "    # jika kondisi True, maka code akan kesini\n",
    "    print(\"lulus\")\n",
    "else:\n",
    "    print(\"tidak lulus\")"
   ]
  },
  {
   "cell_type": "code",
   "execution_count": 8,
   "metadata": {},
   "outputs": [],
   "source": [
    "# selain else, ada juga elif\n",
    "# penggabungan else, lalu nyambung nanya if lagi"
   ]
  },
  {
   "cell_type": "code",
   "execution_count": 9,
   "metadata": {},
   "outputs": [
    {
     "name": "stdout",
     "output_type": "stream",
     "text": [
      "boleh ambil ujian tambahan\n"
     ]
    }
   ],
   "source": [
    "nilai = 50\n",
    "\n",
    "\n",
    "\n",
    "if nilai > 50:\n",
    "    # jika kondisi True, maka code akan kesini\n",
    "    print(\"lulus\")\n",
    "elif nilai == 50:\n",
    "    print(\"boleh ambil ujian tambahan\")\n",
    "else:\n",
    "    print(\"tidak lulus\")"
   ]
  },
  {
   "cell_type": "code",
   "execution_count": 10,
   "metadata": {},
   "outputs": [],
   "source": [
    "# tanpa elif, sebenarnya kita juga bisa memasukkan if baru ke dalam if\n",
    "# namanya \"nested\" if"
   ]
  },
  {
   "cell_type": "code",
   "execution_count": 11,
   "metadata": {},
   "outputs": [
    {
     "name": "stdout",
     "output_type": "stream",
     "text": [
      "boleh ambil ujian tambahan\n"
     ]
    }
   ],
   "source": [
    "nilai = 50\n",
    "\n",
    "\n",
    "\n",
    "if nilai > 50:\n",
    "    # jika kondisi True, maka code akan kesini\n",
    "    print(\"lulus\")\n",
    "else:\n",
    "    if nilai == 50:\n",
    "        print(\"boleh ambil ujian tambahan\")\n",
    "    else:\n",
    "        print(\"tidak lulus\")"
   ]
  },
  {
   "cell_type": "code",
   "execution_count": 12,
   "metadata": {},
   "outputs": [],
   "source": [
    "# misalkan selain nilai, kita perlu cek absensi muridnya juga untuk menentukan kelulusan"
   ]
  },
  {
   "cell_type": "code",
   "execution_count": 20,
   "metadata": {},
   "outputs": [
    {
     "name": "stdout",
     "output_type": "stream",
     "text": [
      "tidak lulus\n"
     ]
    }
   ],
   "source": [
    "nilai = 49  # anggap dari total 100 nilai\n",
    "absen = 16  # anggap dari 16 kelas\n",
    "\n",
    "# misalkan bisa lulus kalau nilai diatas 50 dan absen diatas 8\n",
    "# jika nilai pas 50, bisa lulus kalau absen 16\n",
    "# jika nilai dibawah 50, tidak lulus\n",
    "\n",
    "message = \"\"\n",
    "\n",
    "if (nilai > 50):\n",
    "    if (absen > 8):\n",
    "        message = \"lulus\"\n",
    "    else:\n",
    "        message = \"kurang absensi untuk lulus\"\n",
    "elif (nilai == 50):\n",
    "    if (absen == 16):\n",
    "        message = \"lulus\"\n",
    "    else:\n",
    "        message = \"kurang nilai untuk lulus\"\n",
    "else:\n",
    "    message = \"tidak lulus\"\n",
    "\n",
    "print(message)"
   ]
  },
  {
   "cell_type": "code",
   "execution_count": 21,
   "metadata": {},
   "outputs": [
    {
     "name": "stdout",
     "output_type": "stream",
     "text": [
      "tidak lulus\n"
     ]
    }
   ],
   "source": [
    "# one line if \n",
    "# penulisan if menggunakan satu baris saja\n",
    "if nilai > 50: print(\"lulus\"); \n",
    "elif nilai == 50: print(\"boleh ambil ujian tambahan\"); \n",
    "else: print(\"tidak lulus\")"
   ]
  },
  {
   "cell_type": "code",
   "execution_count": 22,
   "metadata": {},
   "outputs": [],
   "source": [
    "if (nilai > 50):\n",
    "    if (absen > 8): message = \"lulus\"\n",
    "    else: message = \"kurang absensi untuk lulus\"\n",
    "elif (nilai == 50):\n",
    "    if (absen == 16): message = \"lulus\"\n",
    "    else: message = \"kurang nilai untuk lulus\"\n",
    "else: message = \"tidak lulus\""
   ]
  },
  {
   "cell_type": "code",
   "execution_count": 25,
   "metadata": {},
   "outputs": [
    {
     "name": "stdout",
     "output_type": "stream",
     "text": [
      "tidak lulus\n"
     ]
    }
   ],
   "source": [
    "# ternary\n",
    "message= \"lulus\" if nilai > 50 else \"tidak lulus\"\n",
    "print(message)"
   ]
  },
  {
   "cell_type": "code",
   "execution_count": 26,
   "metadata": {},
   "outputs": [
    {
     "name": "stdout",
     "output_type": "stream",
     "text": [
      "lulus\n"
     ]
    }
   ],
   "source": [
    "nilai = 60\n",
    "absen = 9\n",
    "\n",
    "message = \"lulus\" if absen > 8 else \"kurang absen\" if nilai > 50 else \"tidak lulus\"\n",
    "print(message)\n",
    "\n",
    "# tidak direkomen untuk menulis nested if secara ternary, karena sulit dibaca"
   ]
  },
  {
   "cell_type": "code",
   "execution_count": 29,
   "metadata": {},
   "outputs": [
    {
     "name": "stdout",
     "output_type": "stream",
     "text": [
      "tidak lulus\n"
     ]
    }
   ],
   "source": [
    "# pass statement\n",
    "# misalkan kita sudah tau mau cek kondisi apa, tapi belum tau pastinya kalau kondisi True/False mau ngapain\n",
    "\n",
    "nilai = 49  # anggap dari total 100 nilai\n",
    "absen = 16  # anggap dari 16 kelas\n",
    "\n",
    "# misalkan bisa lulus kalau nilai diatas 50 dan absen diatas 8\n",
    "# jika nilai pas 50, bisa lulus kalau absen 16\n",
    "# jika nilai dibawah 50, tidak lulus\n",
    "\n",
    "message = \"\"\n",
    "\n",
    "if (nilai > 50):\n",
    "    if (absen > 8):\n",
    "        message = \"lulus\"\n",
    "    else:\n",
    "        pass\n",
    "elif (nilai == 50):\n",
    "    if (absen == 16):\n",
    "        message = \"lulus\"\n",
    "    else:\n",
    "        pass\n",
    "else:\n",
    "    message = \"tidak lulus\"\n",
    "\n",
    "print(message)"
   ]
  },
  {
   "cell_type": "code",
   "execution_count": 34,
   "metadata": {},
   "outputs": [
    {
     "name": "stdout",
     "output_type": "stream",
     "text": [
      "7\n"
     ]
    }
   ],
   "source": [
    "# perulangan\n",
    "\n",
    "ember = [\"red\", \"red\",\"red\", \"green\", \"green\",\"red\", \"green\",\"red\", \"green\",\"red\", \"green\",\"red\", \"green\"]\n",
    "\n",
    "# cek di dalam ember ada berapa \"red\"?\n",
    "\n",
    "counter = 0\n",
    "# untuk setiap item dalam ember\n",
    "for bola in ember:\n",
    "    # print(bola, counter)\n",
    "    if (bola == \"red\"):\n",
    "        counter = counter + 1\n",
    "\n",
    "print(counter)"
   ]
  },
  {
   "cell_type": "code",
   "execution_count": 32,
   "metadata": {},
   "outputs": [],
   "source": [
    "# for loop digunakan untuk melewati setiap item dalam sebuah koleksi\n",
    "# koleksi adalah string, list, tuple, dictionary, set, range"
   ]
  },
  {
   "cell_type": "code",
   "execution_count": 50,
   "metadata": {},
   "outputs": [
    {
     "name": "stdout",
     "output_type": "stream",
     "text": [
      "0\n",
      "1\n",
      "2\n",
      "3\n",
      "4\n"
     ]
    }
   ],
   "source": [
    "for i in range(5):\n",
    "    print(i)"
   ]
  },
  {
   "cell_type": "code",
   "execution_count": 51,
   "metadata": {},
   "outputs": [
    {
     "name": "stdout",
     "output_type": "stream",
     "text": [
      "5\n",
      "6\n",
      "7\n",
      "8\n",
      "9\n"
     ]
    }
   ],
   "source": [
    "for i in range(5, 10):\n",
    "    print(i)"
   ]
  },
  {
   "cell_type": "code",
   "execution_count": 54,
   "metadata": {},
   "outputs": [
    {
     "name": "stdout",
     "output_type": "stream",
     "text": [
      "10\n",
      "9\n",
      "8\n",
      "7\n",
      "6\n"
     ]
    }
   ],
   "source": [
    "for i in range(10, 5, -1):\n",
    "    print(i)"
   ]
  },
  {
   "cell_type": "code",
   "execution_count": 52,
   "metadata": {},
   "outputs": [
    {
     "name": "stdout",
     "output_type": "stream",
     "text": [
      "5\n",
      "15\n",
      "25\n",
      "35\n",
      "45\n"
     ]
    }
   ],
   "source": [
    "for i in range(5, 50, 10):\n",
    "    print(i)"
   ]
  },
  {
   "cell_type": "code",
   "execution_count": 55,
   "metadata": {},
   "outputs": [
    {
     "name": "stdout",
     "output_type": "stream",
     "text": [
      "bawang merah\n",
      "minyak goreng\n",
      "beras\n"
     ]
    }
   ],
   "source": [
    "pricelist = {\n",
    "    \"bawang merah\": 35000,\n",
    "    \"minyak goreng\": 50000,\n",
    "    \"beras\": 15000\n",
    "}\n",
    "\n",
    "for key in pricelist:\n",
    "    print(key)"
   ]
  },
  {
   "cell_type": "code",
   "execution_count": 56,
   "metadata": {},
   "outputs": [
    {
     "name": "stdout",
     "output_type": "stream",
     "text": [
      "bawang merah 35000\n",
      "minyak goreng 50000\n",
      "beras 15000\n"
     ]
    }
   ],
   "source": [
    "for key in pricelist:\n",
    "    print(key, pricelist[key])"
   ]
  },
  {
   "cell_type": "code",
   "execution_count": 59,
   "metadata": {},
   "outputs": [
    {
     "name": "stdout",
     "output_type": "stream",
     "text": [
      "bawang merah\n",
      "minyak goreng\n",
      "beras\n"
     ]
    }
   ],
   "source": [
    "for key in pricelist.keys():\n",
    "    print(key)"
   ]
  },
  {
   "cell_type": "code",
   "execution_count": 58,
   "metadata": {},
   "outputs": [
    {
     "name": "stdout",
     "output_type": "stream",
     "text": [
      "35000\n",
      "50000\n",
      "15000\n"
     ]
    }
   ],
   "source": [
    "for val in pricelist.values():\n",
    "    print(val)"
   ]
  },
  {
   "cell_type": "code",
   "execution_count": 61,
   "metadata": {},
   "outputs": [
    {
     "name": "stdout",
     "output_type": "stream",
     "text": [
      "bawang merah 35000\n",
      "minyak goreng 50000\n",
      "beras 15000\n"
     ]
    }
   ],
   "source": [
    "for item in pricelist.items():\n",
    "    print(item[0], item[1])"
   ]
  },
  {
   "cell_type": "code",
   "execution_count": 37,
   "metadata": {},
   "outputs": [],
   "source": [
    "# selain for loop yang melewati koleksi\n",
    "# ada juga while loop yang terus berjalan selama kondisi masih True\n",
    "\n",
    "# mirip if, bedanya if jalan 1x saja, while terus2an selama kondisi masih True"
   ]
  },
  {
   "cell_type": "code",
   "execution_count": 38,
   "metadata": {},
   "outputs": [
    {
     "name": "stdout",
     "output_type": "stream",
     "text": [
      "0\n"
     ]
    }
   ],
   "source": [
    "# misalnya kita mau hitung sampai 100, kalau belum 100, hitung lagi\n",
    "angka = 0\n",
    "\n",
    "if angka < 100:\n",
    "    print(angka)\n",
    "    angka = angka + 1"
   ]
  },
  {
   "cell_type": "code",
   "execution_count": 41,
   "metadata": {},
   "outputs": [
    {
     "name": "stdout",
     "output_type": "stream",
     "text": [
      "0\n",
      "1\n",
      "2\n",
      "3\n",
      "4\n",
      "5\n",
      "6\n",
      "7\n",
      "8\n",
      "9\n"
     ]
    }
   ],
   "source": [
    "angka = 0\n",
    "\n",
    "while angka < 10:\n",
    "    print(angka)\n",
    "    angka = angka + 1"
   ]
  },
  {
   "cell_type": "code",
   "execution_count": 44,
   "metadata": {},
   "outputs": [
    {
     "name": "stdout",
     "output_type": "stream",
     "text": [
      "0\n",
      "10\n",
      "20\n",
      "30\n",
      "40\n",
      "50\n",
      "60\n",
      "70\n",
      "80\n",
      "90\n"
     ]
    }
   ],
   "source": [
    "# pastikan kondisi akan berubah jadi False karena code di dalam loop\n",
    "angka = 0\n",
    "\n",
    "while angka < 100:\n",
    "    print(angka)\n",
    "    angka = angka + 10"
   ]
  },
  {
   "cell_type": "code",
   "execution_count": 47,
   "metadata": {},
   "outputs": [
    {
     "name": "stdout",
     "output_type": "stream",
     "text": [
      "7\n"
     ]
    }
   ],
   "source": [
    "ember = [\"red\", \"red\",\"red\", \"green\", \"green\",\"red\", \"green\",\"red\", \"green\",\"red\", \"green\",\"red\", \"green\"]\n",
    "\n",
    "# cek di dalam ember ada berapa \"red\"?\n",
    "\n",
    "index = 0\n",
    "counter = 0\n",
    "# untuk setiap item dalam ember\n",
    "while index < len(ember):\n",
    "    bola = ember[index]\n",
    "    # print(bola, counter)\n",
    "    if (bola == \"red\"):\n",
    "        counter = counter + 1\n",
    "\n",
    "    index = index + 1\n",
    "\n",
    "print(counter)"
   ]
  },
  {
   "cell_type": "code",
   "execution_count": 48,
   "metadata": {},
   "outputs": [
    {
     "name": "stdout",
     "output_type": "stream",
     "text": [
      "H\n",
      "a\n",
      "c\n",
      "k\n",
      "t\n",
      "i\n",
      "v\n",
      "8\n"
     ]
    }
   ],
   "source": [
    "for h in \"Hacktiv8\":\n",
    "    print(h)"
   ]
  },
  {
   "cell_type": "code",
   "execution_count": 49,
   "metadata": {},
   "outputs": [
    {
     "name": "stdout",
     "output_type": "stream",
     "text": [
      "H\n",
      "a\n",
      "c\n",
      "k\n",
      "t\n",
      "i\n",
      "v\n",
      "8\n"
     ]
    }
   ],
   "source": [
    "index = 0\n",
    "text = \"Hacktiv8\"\n",
    "while index < len(text):\n",
    "    print(text[index])\n",
    "    index = index + 1"
   ]
  },
  {
   "cell_type": "code",
   "execution_count": 62,
   "metadata": {},
   "outputs": [],
   "source": [
    "# break dan continue\n",
    "# break menghentikan loop secara paksa\n",
    "# continue skip semua code setelah continue 1x saja, dia balik lagi ke awal loop"
   ]
  },
  {
   "cell_type": "code",
   "execution_count": 69,
   "metadata": {},
   "outputs": [
    {
     "name": "stdout",
     "output_type": "stream",
     "text": [
      "ini sudah salah, kok ada blue\n",
      "4\n"
     ]
    }
   ],
   "source": [
    "# contoh break, begitu ketemu \"blue\" loop langsung berhenti, langsung keluar\n",
    "\n",
    "ember = [\"red\", \"red\",\"red\", \"green\", \"green\",\"red\", \"blue\", \"green\",\"red\", \"green\",\"red\", \"green\",\"red\", \"green\"]\n",
    "\n",
    "\n",
    "counter = 0\n",
    "# untuk setiap item dalam ember\n",
    "for bola in ember:\n",
    "    # print(bola, counter)\n",
    "    if (bola == \"red\"):\n",
    "        counter = counter + 1\n",
    "    elif(bola == \"blue\"):\n",
    "        print(\"ini sudah salah, kok ada blue\")\n",
    "        break\n",
    "\n",
    "print(counter)"
   ]
  },
  {
   "cell_type": "code",
   "execution_count": 65,
   "metadata": {},
   "outputs": [
    {
     "name": "stdout",
     "output_type": "stream",
     "text": [
      "7\n"
     ]
    }
   ],
   "source": [
    "# contoh continue\n",
    "\n",
    "ember = [\"red\", \"red\",\"red\", \"green\", \"green\",\"red\", \"blue\", \"green\",\"red\", \"green\",\"red\", \"green\",\"red\", \"green\"]\n",
    "\n",
    "\n",
    "counter = 0\n",
    "# untuk setiap item dalam ember\n",
    "for bola in ember:\n",
    "    # print(bola, counter)\n",
    "    if (bola == \"red\"):\n",
    "        counter = counter + 1\n",
    "    elif(bola == \"blue\"):\n",
    "        continue\n",
    "\n",
    "print(counter)"
   ]
  },
  {
   "cell_type": "code",
   "execution_count": 67,
   "metadata": {},
   "outputs": [
    {
     "name": "stdout",
     "output_type": "stream",
     "text": [
      "0\n",
      "1\n",
      "2\n",
      "3\n",
      "4\n",
      "6\n",
      "7\n",
      "8\n",
      "9\n"
     ]
    }
   ],
   "source": [
    "# contoh continue yang lebih berasa\n",
    "\n",
    "for i in range(10):\n",
    "    if (i == 5):\n",
    "        continue\n",
    "    print(i)"
   ]
  },
  {
   "cell_type": "code",
   "execution_count": 68,
   "metadata": {},
   "outputs": [
    {
     "name": "stdout",
     "output_type": "stream",
     "text": [
      "0\n",
      "1\n",
      "2\n",
      "3\n",
      "4\n"
     ]
    }
   ],
   "source": [
    "# kalau di break, langsung berhenti\n",
    "\n",
    "for i in range(10):\n",
    "    if (i == 5):\n",
    "        break\n",
    "    print(i)"
   ]
  },
  {
   "cell_type": "code",
   "execution_count": 70,
   "metadata": {},
   "outputs": [],
   "source": [
    "# mencoba menggunakan else di while loop"
   ]
  },
  {
   "cell_type": "code",
   "execution_count": 73,
   "metadata": {},
   "outputs": [
    {
     "name": "stdout",
     "output_type": "stream",
     "text": [
      "1\n",
      "2\n",
      "3\n",
      "4\n",
      "5\n",
      "6\n",
      "7\n",
      "8\n",
      "9\n",
      "10\n",
      "sudah masuk else, counternya: 10\n"
     ]
    }
   ],
   "source": [
    "counter = 0\n",
    "while counter < 10:\n",
    "    counter = counter + 1\n",
    "    print(counter)\n",
    "else:\n",
    "    print(\"sudah masuk else, counternya:\", counter)"
   ]
  },
  {
   "cell_type": "code",
   "execution_count": 74,
   "metadata": {},
   "outputs": [
    {
     "name": "stdout",
     "output_type": "stream",
     "text": [
      "1\n"
     ]
    }
   ],
   "source": [
    "# kalau di break, kondisi tidak pernah False, jadi tidak masuk ke else\n",
    "counter = 0\n",
    "while counter < 10:\n",
    "    counter = counter + 1\n",
    "    print(counter)\n",
    "    break\n",
    "else:\n",
    "    print(\"sudah masuk else, counternya:\", counter)"
   ]
  },
  {
   "cell_type": "code",
   "execution_count": 78,
   "metadata": {},
   "outputs": [
    {
     "name": "stdout",
     "output_type": "stream",
     "text": [
      "Harry Potter 1\n",
      "judul : Harry Potter 1\n",
      "stok : 12\n",
      "harga : 55800\n",
      "--\n",
      "Harry Potter 2\n",
      "judul : Harry Potter 2\n",
      "stok : 2\n",
      "harga : 75800\n",
      "--\n",
      "Harry Potter 3\n",
      "judul : Harry Potter 3\n",
      "stok : 30\n",
      "harga : 105800\n",
      "--\n"
     ]
    }
   ],
   "source": [
    "# misalkan kita punya list berisi stok barang\n",
    "\n",
    "stok = [\n",
    "    {\"judul\":\"Harry Potter 1\", \"stok\": 12, \"harga\": 55800},\n",
    "    {\"judul\":\"Harry Potter 2\", \"stok\": 2, \"harga\": 75800},\n",
    "    {\"judul\":\"Harry Potter 3\", \"stok\": 30, \"harga\": 105800},\n",
    "]\n",
    "\n",
    "for buku in stok:\n",
    "    print(buku[\"judul\"])\n",
    "    for detail in buku:\n",
    "        print(detail, \":\", buku[detail])\n",
    "    print(\"--\")"
   ]
  },
  {
   "cell_type": "code",
   "execution_count": 1,
   "metadata": {},
   "outputs": [
    {
     "name": "stdout",
     "output_type": "stream",
     "text": [
      "stop\n"
     ]
    }
   ],
   "source": [
    "while True:\n",
    "    msg = input(\"Silahkan input...\")\n",
    "    print(msg)\n",
    "    if (msg.lower() == \"stop\"):\n",
    "        break"
   ]
  },
  {
   "cell_type": "code",
   "execution_count": null,
   "metadata": {},
   "outputs": [],
   "source": []
  }
 ],
 "metadata": {
  "interpreter": {
   "hash": "4f523f7c76dd18e7ed336217f32f6f704c23c323644912475b9d3570cf04b060"
  },
  "kernelspec": {
   "display_name": "Python 3.9.7 ('base')",
   "language": "python",
   "name": "python3"
  },
  "language_info": {
   "codemirror_mode": {
    "name": "ipython",
    "version": 3
   },
   "file_extension": ".py",
   "mimetype": "text/x-python",
   "name": "python",
   "nbconvert_exporter": "python",
   "pygments_lexer": "ipython3",
   "version": "3.9.7"
  },
  "orig_nbformat": 4
 },
 "nbformat": 4,
 "nbformat_minor": 2
}
