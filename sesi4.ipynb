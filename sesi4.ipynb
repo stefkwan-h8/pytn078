{
 "cells": [
  {
   "cell_type": "markdown",
   "metadata": {},
   "source": [
    "# Numpy"
   ]
  },
  {
   "cell_type": "code",
   "execution_count": 44,
   "metadata": {},
   "outputs": [],
   "source": [
    "import numpy as np"
   ]
  },
  {
   "cell_type": "markdown",
   "metadata": {},
   "source": [
    "## numpy array\n",
    "data struktur mirip List tapi bukan List, bisa handle data tipe numerik\n",
    "\n",
    "CRUD - create read update delete"
   ]
  },
  {
   "cell_type": "code",
   "execution_count": 45,
   "metadata": {},
   "outputs": [
    {
     "name": "stdout",
     "output_type": "stream",
     "text": [
      "[100, 50, 70, 60, 43] <class 'list'>\n",
      "\n",
      "np.array\n",
      "[100  50  70  60  43] <class 'numpy.ndarray'>\n"
     ]
    }
   ],
   "source": [
    "# create numpy array\n",
    "\n",
    "#bikin dari list\n",
    "nilai = [100,50,70,60,43]\n",
    "arr = np.array(nilai)\n",
    "\n",
    "print(nilai, type(nilai))\n",
    "print()\n",
    "print(\"np.array\")\n",
    "print(arr, type(arr))"
   ]
  },
  {
   "cell_type": "code",
   "execution_count": 46,
   "metadata": {},
   "outputs": [
    {
     "name": "stdout",
     "output_type": "stream",
     "text": [
      "[[100, 5], [70, 60], [43, 88]] <class 'list'>\n",
      "\n",
      "np.array\n",
      "[[100   5]\n",
      " [ 70  60]\n",
      " [ 43  88]] <class 'numpy.ndarray'>\n"
     ]
    }
   ],
   "source": [
    "# kalau list nya 2 dimensi, numpy array juga jadi 2 dimensi\n",
    "nilai = [[100,5],[70,60],[43, 88]]\n",
    "arr = np.array(nilai)\n",
    "\n",
    "print(nilai, type(nilai))\n",
    "print()\n",
    "print(\"np.array\")\n",
    "print(arr, type(arr))\n",
    "\n",
    "#note: jumlah item di setiap dimensi harus sama, misalkan ada 3 baris, maka di setiap baris jumlah itemnya sama\n",
    "# semuanya 2, semuanya 1, semuanya 10, bebas ada berapa tapi harus sama jumlahnya"
   ]
  },
  {
   "cell_type": "code",
   "execution_count": 47,
   "metadata": {},
   "outputs": [
    {
     "name": "stdout",
     "output_type": "stream",
     "text": [
      "np.zeros\n",
      "[0. 0. 0. 0. 0. 0. 0. 0. 0. 0.] <class 'numpy.ndarray'>\n",
      "\n",
      "np.ones\n",
      "[1. 1. 1. 1. 1. 1. 1. 1. 1. 1.] <class 'numpy.ndarray'>\n",
      "\n",
      "np.empty\n",
      "[9.54898106e-312 7.42698527e-312 5.30498948e-312 3.18299369e-312\n",
      " 1.06099790e-312] <class 'numpy.ndarray'>\n",
      "\n"
     ]
    }
   ],
   "source": [
    "# bikin dari built-in function Numpy\n",
    "# zeros - array isi angka 0\n",
    "# ones - array isi angka 1\n",
    "# empty - array kosong, ada isi angka tapi anggap saja kosong\n",
    "\n",
    "arr = np.zeros(10)\n",
    "print(\"np.zeros\")\n",
    "print(arr, type(arr))\n",
    "print()\n",
    "\n",
    "arr = np.ones(10)\n",
    "print(\"np.ones\")\n",
    "print(arr, type(arr))\n",
    "print()\n",
    "\n",
    "arr = np.empty(5)\n",
    "print(\"np.empty\")\n",
    "print(arr, type(arr))\n",
    "print()"
   ]
  },
  {
   "cell_type": "code",
   "execution_count": 48,
   "metadata": {},
   "outputs": [
    {
     "name": "stdout",
     "output_type": "stream",
     "text": [
      "np.zeros\n",
      "[[0. 0. 0. 0.]\n",
      " [0. 0. 0. 0.]\n",
      " [0. 0. 0. 0.]] <class 'numpy.ndarray'>\n",
      "\n",
      "np.ones\n",
      "[[1. 1. 1.]\n",
      " [1. 1. 1.]\n",
      " [1. 1. 1.]\n",
      " [1. 1. 1.]] <class 'numpy.ndarray'>\n",
      "\n",
      "np.empty\n",
      "[9.54898106e-312 7.42698527e-312 5.30498948e-312 3.18299369e-312\n",
      " 1.06099790e-312] <class 'numpy.ndarray'>\n",
      "\n"
     ]
    }
   ],
   "source": [
    "arr = np.zeros((3, 4))\n",
    "print(\"np.zeros\")\n",
    "print(arr, type(arr))\n",
    "print()\n",
    "\n",
    "arr = np.ones((4, 3))\n",
    "print(\"np.ones\")\n",
    "print(arr, type(arr))\n",
    "print()\n",
    "\n",
    "arr = np.empty((5, ))\n",
    "print(\"np.empty\")\n",
    "print(arr, type(arr))\n",
    "print()\n",
    "\n",
    "#*note: yang kita masukin adalah shape nya dalam bentuk tuple"
   ]
  },
  {
   "cell_type": "code",
   "execution_count": 49,
   "metadata": {},
   "outputs": [
    {
     "name": "stdout",
     "output_type": "stream",
     "text": [
      "np.arange\n",
      "[0 1 2 3 4] <class 'numpy.ndarray'>\n",
      "\n",
      "np.arange\n",
      "[ 5  6  7  8  9 10 11 12 13 14] <class 'numpy.ndarray'>\n",
      "\n",
      "np.arange\n",
      "[500 450 400 350 300 250 200 150 100  50] <class 'numpy.ndarray'>\n",
      "\n"
     ]
    }
   ],
   "source": [
    "# isi angka urut, np.arange\n",
    "\n",
    "arr = np.arange(5)\n",
    "print(\"np.arange\")\n",
    "print(arr, type(arr))\n",
    "print()\n",
    "\n",
    "\n",
    "arr = np.arange(5, 15)\n",
    "print(\"np.arange\")\n",
    "print(arr, type(arr))\n",
    "print()\n",
    "\n",
    "\n",
    "arr = np.arange(500, 0, -50)\n",
    "print(\"np.arange\")\n",
    "print(arr, type(arr))\n",
    "print()"
   ]
  },
  {
   "cell_type": "code",
   "execution_count": 50,
   "metadata": {},
   "outputs": [
    {
     "name": "stdout",
     "output_type": "stream",
     "text": [
      "np.arange\n",
      "[[500 450 400 350 300]\n",
      " [250 200 150 100  50]] <class 'numpy.ndarray'>\n",
      "\n"
     ]
    }
   ],
   "source": [
    "# kita bisa juga pakai bantuan reshape untuk buat numpy array 2D\n",
    "\n",
    "arr = np.arange(500, 0, -50).reshape((2,5))\n",
    "print(\"np.arange\")\n",
    "print(arr, type(arr))\n",
    "print()\n",
    "\n"
   ]
  },
  {
   "cell_type": "code",
   "execution_count": 51,
   "metadata": {},
   "outputs": [
    {
     "name": "stdout",
     "output_type": "stream",
     "text": [
      "np.random.random\n",
      "[0.16432554 0.15936195 0.88352431 0.15695539 0.53536593 0.66608351\n",
      " 0.66187946 0.56666838 0.83473019 0.4482607  0.26073901 0.97237501\n",
      " 0.82543297 0.67719163 0.22120289] <class 'numpy.ndarray'>\n",
      "\n"
     ]
    }
   ],
   "source": [
    "# isi angka random, np.random.random\n",
    "\n",
    "arr = np.random.random(15)\n",
    "print(\"np.random.random\")\n",
    "print(arr, type(arr))\n",
    "print()"
   ]
  },
  {
   "cell_type": "code",
   "execution_count": 52,
   "metadata": {},
   "outputs": [
    {
     "name": "stdout",
     "output_type": "stream",
     "text": [
      "np.random.random\n",
      "[[0.78444323 0.55148459 0.79324381 0.11222231 0.92138929]\n",
      " [0.90427474 0.60730918 0.50401679 0.50447633 0.39881906]\n",
      " [0.30156559 0.75633762 0.08934852 0.31313135 0.29131912]] <class 'numpy.ndarray'>\n",
      "\n"
     ]
    }
   ],
   "source": [
    "arr = np.random.random(15).reshape((3,5))\n",
    "print(\"np.random.random\")\n",
    "print(arr, type(arr))\n",
    "print()"
   ]
  },
  {
   "cell_type": "code",
   "execution_count": 53,
   "metadata": {},
   "outputs": [
    {
     "name": "stdout",
     "output_type": "stream",
     "text": [
      "[103   8  73  63  46  91]\n"
     ]
    }
   ],
   "source": [
    "# perbedaan list dan numpy array kalau dikali atau di tambah\n",
    "nilai = [100, 5, 70, 60, 43, 88]\n",
    "\n",
    "arr_nilai = np.array(nilai)\n",
    "\n",
    "print(arr_nilai + 3)\n"
   ]
  },
  {
   "cell_type": "code",
   "execution_count": 54,
   "metadata": {},
   "outputs": [
    {
     "data": {
      "text/plain": [
       "array([30, 24, 22, 10, 21, 16, 15, 33, 32, 32, 30, 23, 18, 20, 31, 28, 34,\n",
       "       14, 17, 17, 25, 15, 23, 14, 22, 15, 28, 21, 20,  8, 21, 24,  9, 21,\n",
       "       20, 21, 32, 22, 31, 19,  5, 23,  7, 17, 29,  6, 28, 15, 25, 17, 29,\n",
       "       18, 34, 33, 23, 12, 39, 29, 12,  9, 23, 18, 13, 39, 19, 16, 13, 35,\n",
       "       33, 18, 25, 14,  8, 12, 22,  7,  5, 15, 13, 14, 28, 17, 25, 19, 11,\n",
       "       16, 25, 24, 24, 16, 13, 32,  8, 19, 17, 16, 15, 19,  2, 20])"
      ]
     },
     "execution_count": 54,
     "metadata": {},
     "output_type": "execute_result"
    }
   ],
   "source": [
    "# kita bisa gunakan np.random.random dan sifat numpy array yang langsung ubah angka kalau dikasih aritmatik\n",
    "# untuk membuat dummy data. misalkan dummy data buang dua dadu 20 sisi sebanyak 100 kali:\n",
    "\n",
    "hasil_dadu1 = (np.random.random(100) * 20 + 1).astype(int)\n",
    "hasil_dadu2 = (np.random.random(100) * 20 + 1).astype(int)\n",
    "hasil_dadu = hasil_dadu1 + hasil_dadu2\n",
    "hasil_dadu"
   ]
  },
  {
   "cell_type": "code",
   "execution_count": 55,
   "metadata": {},
   "outputs": [
    {
     "name": "stdout",
     "output_type": "stream",
     "text": [
      "[[0.78444323 0.55148459 0.79324381 0.11222231 0.92138929]\n",
      " [0.90427474 0.60730918 0.50401679 0.50447633 0.39881906]\n",
      " [0.30156559 0.75633762 0.08934852 0.31313135 0.29131912]]\n"
     ]
    }
   ],
   "source": [
    "# read numpy array\n",
    "\n",
    "print(arr)"
   ]
  },
  {
   "cell_type": "code",
   "execution_count": 56,
   "metadata": {},
   "outputs": [
    {
     "data": {
      "text/plain": [
       "array([0.90427474, 0.60730918, 0.50401679, 0.50447633, 0.39881906])"
      ]
     },
     "execution_count": 56,
     "metadata": {},
     "output_type": "execute_result"
    }
   ],
   "source": [
    "# cara sama seperti list, pakai index\n",
    "arr[1]"
   ]
  },
  {
   "cell_type": "code",
   "execution_count": 57,
   "metadata": {},
   "outputs": [
    {
     "name": "stdout",
     "output_type": "stream",
     "text": [
      "(3, 5)\n"
     ]
    }
   ],
   "source": [
    "# melihat bentuk, jumlah angka, dan dimensi sebuah array\n",
    "\n",
    "print(arr.shape)"
   ]
  },
  {
   "cell_type": "code",
   "execution_count": 58,
   "metadata": {},
   "outputs": [
    {
     "name": "stdout",
     "output_type": "stream",
     "text": [
      "2\n"
     ]
    }
   ],
   "source": [
    "print(arr.ndim)"
   ]
  },
  {
   "cell_type": "code",
   "execution_count": 59,
   "metadata": {},
   "outputs": [
    {
     "name": "stdout",
     "output_type": "stream",
     "text": [
      "15\n"
     ]
    }
   ],
   "source": [
    "print(arr.size)"
   ]
  },
  {
   "cell_type": "code",
   "execution_count": 60,
   "metadata": {},
   "outputs": [
    {
     "name": "stdout",
     "output_type": "stream",
     "text": [
      "[[1 2 3]\n",
      " [4 5 6]]\n"
     ]
    }
   ],
   "source": [
    "# contoh numpy array 2 dimensi\n",
    "\n",
    "arr = np.array([[1,2,3],[4,5,6]])\n",
    "print(arr)"
   ]
  },
  {
   "cell_type": "code",
   "execution_count": 61,
   "metadata": {},
   "outputs": [
    {
     "name": "stdout",
     "output_type": "stream",
     "text": [
      "(2, 3)\n",
      "2\n",
      "6\n"
     ]
    }
   ],
   "source": [
    "print(arr.shape)\n",
    "print(arr.ndim)\n",
    "print(arr.size)"
   ]
  },
  {
   "cell_type": "code",
   "execution_count": 63,
   "metadata": {},
   "outputs": [
    {
     "name": "stdout",
     "output_type": "stream",
     "text": [
      "[[1 2 3]\n",
      " [4 5 6]]\n",
      "[[11 12 13]\n",
      " [14 15 16]]\n",
      "[[-5 -4 -3]\n",
      " [-2 -1  0]]\n",
      "[[ 2  4  6]\n",
      " [ 8 10 12]]\n",
      "[[0.33333333 0.66666667 1.        ]\n",
      " [1.33333333 1.66666667 2.        ]]\n",
      "[[1 0 1]\n",
      " [0 1 0]]\n",
      "[[  1   8  27]\n",
      " [ 64 125 216]]\n"
     ]
    }
   ],
   "source": [
    "# edit numpy array\n",
    "\n",
    "# aritmatik + - * / % **\n",
    "\n",
    "# dengan 1 angka\n",
    "print(arr)\n",
    "print(arr + 10)\n",
    "print(arr - 6)\n",
    "print(arr * 2)\n",
    "print(arr / 3)\n",
    "print(arr % 2) # pembagian yang ambil sisanya saja, misal 5 % 2, sisanya adalah 1\n",
    "print(arr ** 3)\n",
    "\n"
   ]
  },
  {
   "cell_type": "code",
   "execution_count": 65,
   "metadata": {},
   "outputs": [
    {
     "name": "stdout",
     "output_type": "stream",
     "text": [
      "[[1 2 3]\n",
      " [4 5 6]]\n",
      "[[6 5 4]\n",
      " [3 2 1]]\n",
      "\n",
      "[[7 7 7]\n",
      " [7 7 7]]\n",
      "[[-5 -3 -1]\n",
      " [ 1  3  5]]\n",
      "[[ 6 10 12]\n",
      " [12 10  6]]\n",
      "[[0.16666667 0.4        0.75      ]\n",
      " [1.33333333 2.5        6.        ]]\n",
      "[[1 2 3]\n",
      " [1 1 0]]\n",
      "[[ 1 32 81]\n",
      " [64 25  6]]\n"
     ]
    }
   ],
   "source": [
    "# dengan numpy array lain\n",
    "\n",
    "arr2 = np.arange(6,0,-1).reshape((2,3))\n",
    "print(arr)\n",
    "print(arr2)\n",
    "print()\n",
    "\n",
    "print(arr + arr2)\n",
    "print(arr - arr2)\n",
    "print(arr * arr2)\n",
    "print(arr / arr2)\n",
    "print(arr % arr2)\n",
    "print(arr ** arr2)"
   ]
  },
  {
   "cell_type": "code",
   "execution_count": 70,
   "metadata": {},
   "outputs": [
    {
     "name": "stdout",
     "output_type": "stream",
     "text": [
      "[[1 2 3]\n",
      " [4 5 6]]\n",
      "21\n",
      "3.5\n",
      "6\n",
      "1\n"
     ]
    }
   ],
   "source": [
    "# teknik built-in numpy array\n",
    "# sum, mean (rata2), max, min, std (nanti di kelas), ...\n",
    "\n",
    "print(arr)\n",
    "print(arr.sum())\n",
    "print(arr.mean())\n",
    "print(arr.max())\n",
    "print(arr.min())"
   ]
  },
  {
   "cell_type": "code",
   "execution_count": 72,
   "metadata": {},
   "outputs": [
    {
     "name": "stdout",
     "output_type": "stream",
     "text": [
      "[11.66666667  7.66666667 10.33333333 17.        ]\n"
     ]
    }
   ],
   "source": [
    "# kalau mau hitung sum, mean (rata2), max, min, ... per baris atau per kolom juga bisa\n",
    "penjualan = np.array([  [10, 12,  9, 15],\n",
    "                        [ 5,  9,  7,  6],\n",
    "                        [20,  2, 15, 30]])\n",
    "\n",
    "print(penjualan.mean(axis=0)) # membandingkan dimensi pertama, baris ke baris"
   ]
  },
  {
   "cell_type": "code",
   "execution_count": 73,
   "metadata": {},
   "outputs": [
    {
     "name": "stdout",
     "output_type": "stream",
     "text": [
      "[11.5   6.75 16.75]\n"
     ]
    }
   ],
   "source": [
    "print(penjualan.mean(axis=1)) # membandingkan dimensi kedua, kolom ke kolom"
   ]
  },
  {
   "cell_type": "markdown",
   "metadata": {},
   "source": [
    "# matrix \n",
    "matrix adalah numpy array 2 dimensi\n",
    "\n",
    "## dot product \n",
    "memerlukan dua matrix yang shape nya terbalik, misalkan:\n",
    "- matrix pertama shape (3,6) maka matrix kedua shape nya (6,3)"
   ]
  },
  {
   "cell_type": "code",
   "execution_count": 71,
   "metadata": {},
   "outputs": [
    {
     "name": "stdout",
     "output_type": "stream",
     "text": [
      "[[146500  83700 128700 213000]]\n",
      "571900\n"
     ]
    }
   ],
   "source": [
    "# matrix profit\n",
    "profit = np.array([[2800, 4500, 4800]])\n",
    "\n",
    "# matrix penjualan\n",
    "penjualan = np.array([  [10, 12,  9, 15],\n",
    "                        [ 5,  9,  7,  6],\n",
    "                        [20,  2, 15, 30]])\n",
    "\n",
    "# hitung profit\n",
    "profit_per_hari = profit.dot(penjualan)\n",
    "profit_per_minggu = profit_per_hari.sum()\n",
    "print(profit_per_hari)\n",
    "print(profit_per_minggu)"
   ]
  },
  {
   "cell_type": "code",
   "execution_count": 74,
   "metadata": {},
   "outputs": [],
   "source": [
    "# mau hitung total profit 4 hari bisa pakai sum()"
   ]
  },
  {
   "cell_type": "markdown",
   "metadata": {},
   "source": [
    "# Indexing dan Slicing\n",
    "indexing = ambil 1 item pakai index\n",
    "\n",
    "slicing = ambil bbrp item pakai index juga"
   ]
  },
  {
   "cell_type": "code",
   "execution_count": 75,
   "metadata": {},
   "outputs": [
    {
     "name": "stdout",
     "output_type": "stream",
     "text": [
      "[[10 12  9 15]\n",
      " [ 5  9  7  6]\n",
      " [20  2 15 30]]\n"
     ]
    }
   ],
   "source": [
    "print(penjualan)"
   ]
  },
  {
   "cell_type": "code",
   "execution_count": 80,
   "metadata": {},
   "outputs": [
    {
     "data": {
      "text/plain": [
       "30"
      ]
     },
     "execution_count": 80,
     "metadata": {},
     "output_type": "execute_result"
    }
   ],
   "source": [
    "# lihat penjualan srikaya di hari kamis\n",
    "# baris ketiga 2\n",
    "# kolom ke empat 3\n",
    "penjualan[2,3]"
   ]
  },
  {
   "cell_type": "code",
   "execution_count": 76,
   "metadata": {},
   "outputs": [
    {
     "data": {
      "text/plain": [
       "array([10,  5, 20])"
      ]
     },
     "execution_count": 76,
     "metadata": {},
     "output_type": "execute_result"
    }
   ],
   "source": [
    "# semua baris :\n",
    "# kolom pertama 0\n",
    "penjualan[:, 0]"
   ]
  },
  {
   "cell_type": "code",
   "execution_count": 79,
   "metadata": {},
   "outputs": [
    {
     "data": {
      "text/plain": [
       "array([[12,  9],\n",
       "       [ 9,  7]])"
      ]
     },
     "execution_count": 79,
     "metadata": {},
     "output_type": "execute_result"
    }
   ],
   "source": [
    "# dua baris pertama 0:2\n",
    "# kolom kedua dan ketiga 1:3\n",
    "penjualan[0:2, 1:3]"
   ]
  },
  {
   "cell_type": "markdown",
   "metadata": {},
   "source": [
    "# Query\n",
    "mengambil item pakai kondisi"
   ]
  },
  {
   "cell_type": "code",
   "execution_count": 82,
   "metadata": {},
   "outputs": [
    {
     "name": "stdout",
     "output_type": "stream",
     "text": [
      "[[10 12  9 15]\n",
      " [ 5  9  7  6]\n",
      " [20  2 15 30]]\n"
     ]
    }
   ],
   "source": [
    "print(penjualan)"
   ]
  },
  {
   "cell_type": "code",
   "execution_count": 83,
   "metadata": {},
   "outputs": [
    {
     "name": "stdout",
     "output_type": "stream",
     "text": [
      "[[False  True False  True]\n",
      " [False False False False]\n",
      " [ True False  True  True]]\n"
     ]
    }
   ],
   "source": [
    "# misal mau ambil yang lebih dari 10 saja\n",
    "# selain > bisa juga pakai komparator lain < >= <= != ==\n",
    "kondisi = penjualan > 10\n",
    "\n",
    "print(kondisi)"
   ]
  },
  {
   "cell_type": "code",
   "execution_count": 84,
   "metadata": {},
   "outputs": [
    {
     "data": {
      "text/plain": [
       "array([12, 15, 20, 15, 30])"
      ]
     },
     "execution_count": 84,
     "metadata": {},
     "output_type": "execute_result"
    }
   ],
   "source": [
    "penjualan[kondisi]"
   ]
  },
  {
   "cell_type": "code",
   "execution_count": 85,
   "metadata": {},
   "outputs": [
    {
     "data": {
      "text/plain": [
       "array([12, 15, 20, 15, 30])"
      ]
     },
     "execution_count": 85,
     "metadata": {},
     "output_type": "execute_result"
    }
   ],
   "source": [
    "penjualan[penjualan > 10]"
   ]
  },
  {
   "cell_type": "code",
   "execution_count": 87,
   "metadata": {},
   "outputs": [
    {
     "data": {
      "text/plain": [
       "array([12, 15, 20, 15, 30])"
      ]
     },
     "execution_count": 87,
     "metadata": {},
     "output_type": "execute_result"
    }
   ],
   "source": [
    "kumpulan_index = np.array([ [False,  True, False,  True],\n",
    "                            [False, False, False, False],\n",
    "                            [ True, False,  True,  True]   ])\n",
    "\n",
    "penjualan[kumpulan_index]"
   ]
  },
  {
   "cell_type": "code",
   "execution_count": 88,
   "metadata": {},
   "outputs": [
    {
     "name": "stdout",
     "output_type": "stream",
     "text": [
      "[[10 12  9 15]\n",
      " [ 5  9  7  6]\n",
      " [20  2 15 30]]\n"
     ]
    }
   ],
   "source": [
    "# query bisa banyak kondisi, pakai and dan or juga bisa\n",
    "print(penjualan)"
   ]
  },
  {
   "cell_type": "code",
   "execution_count": 90,
   "metadata": {},
   "outputs": [
    {
     "data": {
      "text/plain": [
       "array([ 9, 15,  9,  7, 15])"
      ]
     },
     "execution_count": 90,
     "metadata": {},
     "output_type": "execute_result"
    }
   ],
   "source": [
    "# mau yang penjualan diatas 5 dan angka ganjil\n",
    "kondisi1 = penjualan > 5\n",
    "kondisi2 = (penjualan % 2 == 1)\n",
    "\n",
    "penjualan[kondisi1 & kondisi2]"
   ]
  },
  {
   "cell_type": "code",
   "execution_count": 91,
   "metadata": {},
   "outputs": [
    {
     "data": {
      "text/plain": [
       "array([ 9, 15,  9,  7, 15])"
      ]
     },
     "execution_count": 91,
     "metadata": {},
     "output_type": "execute_result"
    }
   ],
   "source": [
    "penjualan[(penjualan > 5) & (penjualan % 2 == 1)]"
   ]
  },
  {
   "cell_type": "code",
   "execution_count": 92,
   "metadata": {},
   "outputs": [
    {
     "data": {
      "text/plain": [
       "array([10, 12, 15,  6, 20,  2, 15, 30])"
      ]
     },
     "execution_count": 92,
     "metadata": {},
     "output_type": "execute_result"
    }
   ],
   "source": [
    "# mau penjualan diatas 10 atau angka genap\n",
    "kondisi1 = penjualan > 10\n",
    "kondisi2 = (penjualan % 2 == 0)\n",
    "\n",
    "penjualan[kondisi1 | kondisi2]"
   ]
  },
  {
   "cell_type": "code",
   "execution_count": 93,
   "metadata": {},
   "outputs": [
    {
     "data": {
      "text/plain": [
       "array([10, 12, 15,  6, 20,  2, 15, 30])"
      ]
     },
     "execution_count": 93,
     "metadata": {},
     "output_type": "execute_result"
    }
   ],
   "source": [
    "penjualan[(penjualan > 10) | (penjualan % 2 == 0)]"
   ]
  },
  {
   "cell_type": "markdown",
   "metadata": {},
   "source": [
    "# copy\n",
    "numpy array mirip list, kalau kita masukin ke variable lain, kayak cuman dapat nama baru, numpy array jadi punya dua nama\n",
    "\n",
    "kalau kita pakai copy, maka jadinya ada dua numpy array"
   ]
  },
  {
   "cell_type": "code",
   "execution_count": 95,
   "metadata": {},
   "outputs": [],
   "source": [
    "penjualan2 = penjualan"
   ]
  },
  {
   "cell_type": "code",
   "execution_count": 96,
   "metadata": {},
   "outputs": [],
   "source": [
    "penjualan2[0,0] = 0"
   ]
  },
  {
   "cell_type": "code",
   "execution_count": 97,
   "metadata": {},
   "outputs": [
    {
     "name": "stdout",
     "output_type": "stream",
     "text": [
      "[[ 0 12  9 15]\n",
      " [ 5  9  7  6]\n",
      " [20  2 15 30]]\n"
     ]
    }
   ],
   "source": [
    "print(penjualan2)"
   ]
  },
  {
   "cell_type": "code",
   "execution_count": 98,
   "metadata": {},
   "outputs": [
    {
     "name": "stdout",
     "output_type": "stream",
     "text": [
      "[[ 0 12  9 15]\n",
      " [ 5  9  7  6]\n",
      " [20  2 15 30]]\n"
     ]
    }
   ],
   "source": [
    "print(penjualan)"
   ]
  },
  {
   "cell_type": "code",
   "execution_count": 99,
   "metadata": {},
   "outputs": [],
   "source": [
    "# kita bisa bikin duplikat dengan pakai copy\n",
    "\n",
    "penjualan_copy = penjualan.copy()"
   ]
  },
  {
   "cell_type": "code",
   "execution_count": 100,
   "metadata": {},
   "outputs": [],
   "source": [
    "penjualan_copy[0,0] = 50"
   ]
  },
  {
   "cell_type": "code",
   "execution_count": 101,
   "metadata": {},
   "outputs": [
    {
     "name": "stdout",
     "output_type": "stream",
     "text": [
      "[[50 12  9 15]\n",
      " [ 5  9  7  6]\n",
      " [20  2 15 30]]\n"
     ]
    }
   ],
   "source": [
    "print(penjualan_copy)"
   ]
  },
  {
   "cell_type": "code",
   "execution_count": 102,
   "metadata": {},
   "outputs": [
    {
     "name": "stdout",
     "output_type": "stream",
     "text": [
      "[[ 0 12  9 15]\n",
      " [ 5  9  7  6]\n",
      " [20  2 15 30]]\n"
     ]
    }
   ],
   "source": [
    "print(penjualan)"
   ]
  },
  {
   "cell_type": "markdown",
   "metadata": {},
   "source": [
    "# transpose\n",
    "berbeda dengan reshape, transpose memastikan teman sebaris jadi teman sekolom setelah di transpose"
   ]
  },
  {
   "cell_type": "code",
   "execution_count": 104,
   "metadata": {},
   "outputs": [
    {
     "name": "stdout",
     "output_type": "stream",
     "text": [
      "[[ 0 12  9 15]\n",
      " [ 5  9  7  6]\n",
      " [20  2 15 30]]\n"
     ]
    }
   ],
   "source": [
    "print(penjualan)"
   ]
  },
  {
   "cell_type": "code",
   "execution_count": 105,
   "metadata": {},
   "outputs": [
    {
     "name": "stdout",
     "output_type": "stream",
     "text": [
      "[[ 0  5 20]\n",
      " [12  9  2]\n",
      " [ 9  7 15]\n",
      " [15  6 30]]\n"
     ]
    }
   ],
   "source": [
    "print(penjualan.T)"
   ]
  },
  {
   "cell_type": "code",
   "execution_count": 106,
   "metadata": {},
   "outputs": [
    {
     "name": "stdout",
     "output_type": "stream",
     "text": [
      "[[ 0 12  9]\n",
      " [15  5  9]\n",
      " [ 7  6 20]\n",
      " [ 2 15 30]]\n"
     ]
    }
   ],
   "source": [
    "print(penjualan.reshape((4,3)))"
   ]
  },
  {
   "cell_type": "code",
   "execution_count": null,
   "metadata": {},
   "outputs": [],
   "source": []
  }
 ],
 "metadata": {
  "interpreter": {
   "hash": "4f523f7c76dd18e7ed336217f32f6f704c23c323644912475b9d3570cf04b060"
  },
  "kernelspec": {
   "display_name": "Python 3.9.7 ('base')",
   "language": "python",
   "name": "python3"
  },
  "language_info": {
   "codemirror_mode": {
    "name": "ipython",
    "version": 3
   },
   "file_extension": ".py",
   "mimetype": "text/x-python",
   "name": "python",
   "nbconvert_exporter": "python",
   "pygments_lexer": "ipython3",
   "version": "3.9.7"
  },
  "orig_nbformat": 4
 },
 "nbformat": 4,
 "nbformat_minor": 2
}
